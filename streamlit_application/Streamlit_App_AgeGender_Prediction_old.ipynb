{
  "nbformat": 4,
  "nbformat_minor": 0,
  "metadata": {
    "colab": {
      "name": "Streamlit_App_AgeGender_Prediction.ipynb",
      "provenance": [],
      "collapsed_sections": [],
      "toc_visible": true
    },
    "kernelspec": {
      "name": "python3",
      "display_name": "Python 3"
    },
    "language_info": {
      "name": "python"
    }
  },
  "cells": [
    {
      "cell_type": "markdown",
      "metadata": {
        "id": "4X-J0Qe4zE4S"
      },
      "source": [
        "# Streamlit App - Gender and Age Prediction."
      ]
    },
    {
      "cell_type": "markdown",
      "metadata": {
        "id": "h_wwtqVmFuC4"
      },
      "source": [
        "Goal: Create an app wrapper for age and gender prediction model. "
      ]
    },
    {
      "cell_type": "markdown",
      "metadata": {
        "id": "dZhkwl-_GCoi"
      },
      "source": [
        "# Install Streamlit"
      ]
    },
    {
      "cell_type": "code",
      "metadata": {
        "id": "Jc8PDdp_FtIr"
      },
      "source": [
        "!pip install streamlit -q\n",
        "!pip install ipykernel>=5.1.2\n",
        "!pip install pydeck\n",
        "\n",
        "\n",
        "# Clear output for this cell\n",
        "from IPython.display import clear_output\n",
        "clear_output()"
      ],
      "execution_count": 149,
      "outputs": []
    },
    {
      "cell_type": "markdown",
      "metadata": {
        "id": "RQ5uvWHPklkC"
      },
      "source": [
        "Download Gihub repo to current Colab environment"
      ]
    },
    {
      "cell_type": "code",
      "metadata": {
        "colab": {
          "base_uri": "https://localhost:8080/"
        },
        "id": "1AHPjQPaW_5I",
        "outputId": "957439b6-9215-410f-e8a6-e0b2f6825945"
      },
      "source": [
        "!git clone https://github.com/Karishma-Kuria/DL-AgeGender-Prediction-Project.git"
      ],
      "execution_count": 150,
      "outputs": [
        {
          "output_type": "stream",
          "name": "stdout",
          "text": [
            "fatal: destination path 'DL-AgeGender-Prediction-Project' already exists and is not an empty directory.\n"
          ]
        }
      ]
    },
    {
      "cell_type": "markdown",
      "metadata": {
        "id": "LM7XTUlqk2Oa"
      },
      "source": [
        "Create a app.py file for sreamlit to run"
      ]
    },
    {
      "cell_type": "code",
      "source": [
        "%%writefile app.py\n",
        "import streamlit as st\n",
        "import tensorflow as tf\n",
        "from tensorflow import keras\n",
        "import streamlit as st\n",
        "from PIL import Image, ImageOps\n",
        "import numpy as np\n",
        "#from keras.preprocessing import image\n",
        "#from keras.preprocessing.image import ImageDataGenerator\n",
        "\n",
        "\n",
        "@st.cache(allow_output_mutation=True)\n",
        "def load_model():\n",
        "  model=tf.keras.models.load_model('/content/DL-AgeGender-Prediction-Project/models/a_g_best.h5')\n",
        "  return model\n",
        "with st.spinner('Model is being loaded..'):\n",
        "  model=load_model()\n",
        "\n",
        "st.write(\"\"\"\n",
        "         # Gender Age Prediction\n",
        "         \"\"\"\n",
        "         )\n",
        "\n",
        "file = st.file_uploader(\"Please upload a file\", type=[\"jpg\", \"png\"])\n",
        "\n",
        "st.set_option('deprecation.showfileUploaderEncoding', False)\n",
        "\n",
        "def import_and_predict(image_data, model):\n",
        "    \n",
        "        size = (198,198)    \n",
        "        image1 = ImageOps.fit(image_data, size)\n",
        "        image1 = np.asarray(image1)\n",
        "        image2 = image1.astype(np.float32)\n",
        "        img = np.expand_dims(image2, axis = 0)\n",
        "        img1 = np.copy(img)\n",
        "        img1 = np.divide(img1, 255, out=img1, casting=\"unsafe\")\n",
        "        age_pred, gender_pred = model.predict(img1)\n",
        "        max=-1\n",
        "        count=0\n",
        "\n",
        "        for i in age_pred[0]:\n",
        "          if i>max:\n",
        "            max = i\n",
        "            temp = count\n",
        "          count+=1\n",
        "        print(temp)\n",
        "        if temp==0:\n",
        "          st.header('0-24 yrs old')\n",
        "        if temp==1:\n",
        "          st.header('25-49 yrs old')\n",
        "        if temp==2:\n",
        "          st.header('50-74 yrs old')\n",
        "        if temp==3:\n",
        "          st.header('75-99 yrs old')\n",
        "        if temp==4:\n",
        "          st.header('91-124 yrs old')\n",
        "\n",
        "        if gender_pred[0][0]>gender_pred[0][1]:\n",
        "          st.header('Male')\n",
        "        else:\n",
        "          st.header('Female')\n",
        "        \n",
        "if file is None:\n",
        "    st.text(\"Please upload an image file\")\n",
        "else:\n",
        "    image = Image.open(file)\n",
        "    file.getvalue()\n",
        "    print(file)\n",
        "    st.image(image, use_column_width=True)\n",
        "    import_and_predict(image, model)"
      ],
      "metadata": {
        "colab": {
          "base_uri": "https://localhost:8080/"
        },
        "id": "m3u4LjyCPfJ9",
        "outputId": "784ac829-ac14-45ec-8684-1158c5acb9df"
      },
      "execution_count": 151,
      "outputs": [
        {
          "output_type": "stream",
          "name": "stdout",
          "text": [
            "Overwriting app.py\n"
          ]
        }
      ]
    },
    {
      "cell_type": "code",
      "source": [
        "!streamlit run app.py & npx localtunnel --port 8501"
      ],
      "metadata": {
        "colab": {
          "base_uri": "https://localhost:8080/"
        },
        "id": "N_0eX59bRJg_",
        "outputId": "bce1e9db-34dc-4006-9db0-74ba58840fe4"
      },
      "execution_count": 152,
      "outputs": [
        {
          "output_type": "stream",
          "name": "stdout",
          "text": [
            "2022-05-22 12:44:36.602 INFO    numexpr.utils: NumExpr defaulting to 2 threads.\n",
            "\u001b[K\u001b[?25hnpx: installed 22 in 6.035s\n",
            "\u001b[0m\n",
            "\u001b[34m\u001b[1m  You can now view your Streamlit app in your browser.\u001b[0m\n",
            "\u001b[0m\n",
            "\u001b[34m  Network URL: \u001b[0m\u001b[1mhttp://172.28.0.2:8501\u001b[0m\n",
            "\u001b[34m  External URL: \u001b[0m\u001b[1mhttp://34.125.252.130:8501\u001b[0m\n",
            "\u001b[0m\n",
            "your url is: https://witty-seals-vanish-34-125-252-130.loca.lt\n",
            "2022-05-22 12:44:56.133879: E tensorflow/stream_executor/cuda/cuda_driver.cc:271] failed call to cuInit: CUDA_ERROR_NO_DEVICE: no CUDA-capable device is detected\n",
            "UploadedFile(id=1, name='1_0_0_20161219140642920.jpg.chip.jpg', type='image/jpeg', size=4257)\n",
            "0\n",
            "\u001b[34m  Stopping...\u001b[0m\n",
            "^C\n"
          ]
        }
      ]
    }
  ]
}