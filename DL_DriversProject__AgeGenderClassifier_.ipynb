{
  "cells": [
    {
      "cell_type": "markdown",
      "metadata": {
        "id": "view-in-github",
        "colab_type": "text"
      },
      "source": [
        "<a href=\"https://colab.research.google.com/github/akanksha0911/DL-AgeGender-Prediction-Project/blob/main/DL_DriversProject__AgeGenderClassifier_.ipynb\" target=\"_parent\"><img src=\"https://colab.research.google.com/assets/colab-badge.svg\" alt=\"Open In Colab\"/></a>"
      ]
    },
    {
      "cell_type": "markdown",
      "source": [
        "# **Deep Llearning - CMPE258 Section 49**\n",
        "\n",
        "## **Team Name - DL-Drivers**\n",
        "\n",
        "## **Team Members: Akanksha Rawat, Karishma Kuriya, Nisha Mohan**"
      ],
      "metadata": {
        "id": "G7YlRfFAiKZi"
      }
    },
    {
      "cell_type": "markdown",
      "metadata": {
        "id": "IH-jxeUtAQx-"
      },
      "source": [
        "# Age & Gender Classifier using Deep CNNs-\n",
        "\n",
        "**Dataset : UTKFace**\n",
        "\n",
        "About the dataset: UTKFace dataset is a large-scale face dataset with long age span (range from 0 to 116 years old). The dataset consists of over 20,000 face images with annotations of age, gender, and ethnicity. The images cover large variation in pose, facial expression, illumination, occlusion, resolution, etc.\n",
        "\n",
        "In this notebook, we have used the `aligned and cropped` faces available to train the models. \n",
        "\n",
        "### **Note : so for testing - any face input  must be cropped and aligned vertically to large extent.**"
      ]
    },
    {
      "cell_type": "code",
      "execution_count": 109,
      "metadata": {
        "id": "Bwb7ZaKaB75a",
        "colab": {
          "base_uri": "https://localhost:8080/"
        },
        "outputId": "30fa0bf4-8e99-4c77-e0ba-30475f9133d2"
      },
      "outputs": [
        {
          "output_type": "stream",
          "name": "stdout",
          "text": [
            "Drive already mounted at /content/drive; to attempt to forcibly remount, call drive.mount(\"/content/drive\", force_remount=True).\n"
          ]
        }
      ],
      "source": [
        "# Mounting the drive so that dataset can be loaded\n",
        "\n",
        "from google.colab import drive\n",
        "drive.mount('/content/drive')"
      ]
    },
    {
      "cell_type": "markdown",
      "source": [
        "## **installing MLflow for model artifacts, metrics and params tracking as part of MLops.**"
      ],
      "metadata": {
        "id": "PinzCjPUlFcB"
      }
    },
    {
      "cell_type": "code",
      "source": [
        "!pip install mlflow --quiet"
      ],
      "metadata": {
        "id": "2xpuA618P3kn"
      },
      "execution_count": 110,
      "outputs": []
    },
    {
      "cell_type": "code",
      "source": [
        "import mlflow"
      ],
      "metadata": {
        "id": "P7QY7gOrP5pj"
      },
      "execution_count": 111,
      "outputs": []
    },
    {
      "cell_type": "code",
      "source": [
        "print(mlflow.__version__)"
      ],
      "metadata": {
        "colab": {
          "base_uri": "https://localhost:8080/"
        },
        "id": "V2r6KHUSP6mU",
        "outputId": "23331f4a-6a21-4783-d878-d58d85c06e4a"
      },
      "execution_count": 112,
      "outputs": [
        {
          "output_type": "stream",
          "name": "stdout",
          "text": [
            "1.26.0\n"
          ]
        }
      ]
    },
    {
      "cell_type": "code",
      "source": [
        "# Create an experiment name, which must be unique and case sensitive\n",
        "experiment_id = mlflow.create_experiment(\"Age and gender detection Experiments_3\")\n",
        "experiment = mlflow.get_experiment(experiment_id)\n",
        "print(\"Name: {}\".format(experiment.name))\n",
        "print(\"Experiment_id: {}\".format(experiment.experiment_id))\n",
        "print(\"Artifact Location: {}\".format(experiment.artifact_location))\n",
        "print(\"Tags: {}\".format(experiment.tags))\n",
        "print(\"Lifecycle_stage: {}\".format(experiment.lifecycle_stage))"
      ],
      "metadata": {
        "colab": {
          "base_uri": "https://localhost:8080/"
        },
        "id": "e2Jj1HXiX2Pa",
        "outputId": "1b38a64d-a700-407e-9412-aff4cf3a04a5"
      },
      "execution_count": 114,
      "outputs": [
        {
          "output_type": "stream",
          "name": "stdout",
          "text": [
            "Name: Age and gender detection Experiments_3\n",
            "Experiment_id: 3\n",
            "Artifact Location: file:///content/mlruns/3\n",
            "Tags: {}\n",
            "Lifecycle_stage: active\n"
          ]
        }
      ]
    },
    {
      "cell_type": "code",
      "metadata": {
        "id": "Y2wICfThR7pj"
      },
      "source": [
        "with mlflow.start_run(run_name=\"MLflow age and Gender prediction\"):\n",
        "  mlflow.log_metric(\"m1\", 2.0)\n",
        "get_ipython().system_raw(\"mlflow ui --port 5000 &\")\n"
      ],
      "execution_count": 117,
      "outputs": []
    },
    {
      "cell_type": "code",
      "source": [
        "# mlflow.end_run()"
      ],
      "metadata": {
        "id": "0WeVpq0Sn4Nf"
      },
      "execution_count": 116,
      "outputs": []
    },
    {
      "cell_type": "code",
      "source": [
        "!pip install pyngrok --quiet\n",
        "from pyngrok import ngrok\n",
        "from getpass import getpass\n",
        "# Terminate open tunnels if any exist\n",
        "ngrok.kill()\n"
      ],
      "metadata": {
        "id": "54KvqzyOL6Ow"
      },
      "execution_count": 118,
      "outputs": []
    },
    {
      "cell_type": "code",
      "source": [
        "# Enter your auth token when the code is running\n",
        "ngrok.set_auth_token(\"29X3gXr4I8paaNKoCBUVwkmq9q8_7jNumvQSv99sdS1EHTLtH\")\n",
        "ngrok_tunnel = ngrok.connect(addr=\"5000\", proto=\"http\", bind_tls=True)\n",
        "print(\"MLflow Tracking UI:\", ngrok_tunnel.public_url)\n"
      ],
      "metadata": {
        "colab": {
          "base_uri": "https://localhost:8080/"
        },
        "id": "xLNBOleUL8ab",
        "outputId": "86984dc7-cb80-4f58-a307-6ae9bee7d805"
      },
      "execution_count": 119,
      "outputs": [
        {
          "output_type": "stream",
          "name": "stdout",
          "text": [
            "MLflow Tracking UI: https://1d7c-35-197-73-56.ngrok.io\n"
          ]
        }
      ]
    },
    {
      "cell_type": "code",
      "source": [
        "import mlflow.keras"
      ],
      "metadata": {
        "id": "r_rRXAaaOwmg"
      },
      "execution_count": 120,
      "outputs": []
    },
    {
      "cell_type": "code",
      "source": [
        "mlflow.tensorflow.autolog()"
      ],
      "metadata": {
        "id": "FAncxBThOZx7"
      },
      "execution_count": 121,
      "outputs": []
    },
    {
      "cell_type": "code",
      "execution_count": 122,
      "metadata": {
        "id": "g8n273iCB_MG"
      },
      "outputs": [],
      "source": [
        "# Essential libraries\n",
        "import numpy as np \n",
        "import pandas as pd\n",
        "import os\n",
        "import glob\n",
        "import pandas as pd\n",
        "import matplotlib.pyplot as plt\n",
        "import seaborn as sns\n",
        "import scipy.io\n",
        "import pandas as pd\n",
        "import numpy as np\n",
        "import matplotlib.pyplot as plt\n",
        "from keras import applications,activations\n",
        "from keras.preprocessing.image import ImageDataGenerator,load_img,img_to_array\n",
        "from keras import optimizers,utils\n",
        "from keras.models import Sequential, Model \n",
        "from keras.layers import Dropout, Flatten, Dense, GlobalAveragePooling2D,BatchNormalization,ZeroPadding2D, Input\n",
        "from keras.layers import Conv2D, Activation,MaxPooling2D\n",
        "from keras import backend as k \n",
        "from keras.callbacks import ModelCheckpoint, LearningRateScheduler, TensorBoard, EarlyStopping"
      ]
    },
    {
      "cell_type": "code",
      "execution_count": 123,
      "metadata": {
        "id": "RZbxDjTNCFGo"
      },
      "outputs": [],
      "source": [
        "dataset_folder_name = '/content/drive/MyDrive/Age_Geneder_UTKDataSet/UTKFace'\n",
        "TRAIN_TEST_SPLIT = 0.8\n",
        "IM_WIDTH = IM_HEIGHT = 198\n",
        "\n",
        "dataset_dict = {\n",
        "    'race_id': {\n",
        "        0: 'white', \n",
        "        1: 'black', \n",
        "        2: 'asian', \n",
        "        3: 'indian', \n",
        "        4: 'others'\n",
        "    },\n",
        "    'gender_id': {\n",
        "        0: 'male',\n",
        "        1: 'female'\n",
        "    }\n",
        "}\n",
        "\n",
        "dataset_dict['gender_alias'] = dict((g, i) for i, g in dataset_dict['gender_id'].items())    # (Gender: id)\n",
        "dataset_dict['race_alias'] = dict((r, i) for i, r in dataset_dict['race_id'].items())        # (Race: id)"
      ]
    },
    {
      "cell_type": "code",
      "execution_count": 124,
      "metadata": {
        "id": "kXkn8umRCPuM"
      },
      "outputs": [],
      "source": [
        "# Let's also define a function to help us on extracting the data from our dataset. This function will be\n",
        "# used to iterate over each file of the UTK dataset and return a Pandas Dataframe containing all the\n",
        "# fields (age, gender and sex) of our records.\n",
        "\n",
        "def parse_dataset(dataset_path, ext='jpg'):\n",
        "    \"\"\"\n",
        "    Used to extract information about our dataset. It does iterate over all images and return a DataFrame\n",
        "     with the data (age, gender and sex) of all files.\n",
        "    \"\"\"\n",
        "    def parse_info_from_file(path):\n",
        "        \"\"\"\n",
        "        Parse information from a single file\n",
        "        \"\"\"\n",
        "        try:\n",
        "            filename = os.path.split(path)[1]\n",
        "            filename = os.path.splitext(filename)[0]\n",
        "            age, gender, race, _ = filename.split('_')\n",
        "\n",
        "            return int(age), dataset_dict['gender_id'][int(gender)], dataset_dict['race_id'][int(race)]\n",
        "        except Exception as ex:\n",
        "            return None, None, None\n",
        "        \n",
        "    files = glob.glob(os.path.join(dataset_path, \"*.%s\" % ext))\n",
        "    \n",
        "    records = []\n",
        "    for file in files:\n",
        "        info = parse_info_from_file(file)\n",
        "        records.append(info)\n",
        "        \n",
        "    df = pd.DataFrame(records)\n",
        "    df['file'] = files\n",
        "    df.columns = ['age', 'gender', 'race', 'file']\n",
        "    \n",
        "   \n",
        "    df = df.dropna()\n",
        "    \n",
        "    return df"
      ]
    },
    {
      "cell_type": "code",
      "execution_count": 125,
      "metadata": {
        "colab": {
          "base_uri": "https://localhost:8080/",
          "height": 206
        },
        "id": "ybscrdgBCWxr",
        "outputId": "919dd031-9776-4f00-8510-907ee113aae7"
      },
      "outputs": [
        {
          "output_type": "execute_result",
          "data": {
            "text/plain": [
              "    age  gender    race                                               file\n",
              "0  23.0  female  indian  /content/drive/MyDrive/Age_Geneder_UTKDataSet/...\n",
              "1  23.0  female  indian  /content/drive/MyDrive/Age_Geneder_UTKDataSet/...\n",
              "2  23.0  female  indian  /content/drive/MyDrive/Age_Geneder_UTKDataSet/...\n",
              "3  23.0  female  indian  /content/drive/MyDrive/Age_Geneder_UTKDataSet/...\n",
              "4  24.0    male   white  /content/drive/MyDrive/Age_Geneder_UTKDataSet/..."
            ],
            "text/html": [
              "\n",
              "  <div id=\"df-a4f2ba21-07a1-4ebc-9976-b397b2bb893f\">\n",
              "    <div class=\"colab-df-container\">\n",
              "      <div>\n",
              "<style scoped>\n",
              "    .dataframe tbody tr th:only-of-type {\n",
              "        vertical-align: middle;\n",
              "    }\n",
              "\n",
              "    .dataframe tbody tr th {\n",
              "        vertical-align: top;\n",
              "    }\n",
              "\n",
              "    .dataframe thead th {\n",
              "        text-align: right;\n",
              "    }\n",
              "</style>\n",
              "<table border=\"1\" class=\"dataframe\">\n",
              "  <thead>\n",
              "    <tr style=\"text-align: right;\">\n",
              "      <th></th>\n",
              "      <th>age</th>\n",
              "      <th>gender</th>\n",
              "      <th>race</th>\n",
              "      <th>file</th>\n",
              "    </tr>\n",
              "  </thead>\n",
              "  <tbody>\n",
              "    <tr>\n",
              "      <th>0</th>\n",
              "      <td>23.0</td>\n",
              "      <td>female</td>\n",
              "      <td>indian</td>\n",
              "      <td>/content/drive/MyDrive/Age_Geneder_UTKDataSet/...</td>\n",
              "    </tr>\n",
              "    <tr>\n",
              "      <th>1</th>\n",
              "      <td>23.0</td>\n",
              "      <td>female</td>\n",
              "      <td>indian</td>\n",
              "      <td>/content/drive/MyDrive/Age_Geneder_UTKDataSet/...</td>\n",
              "    </tr>\n",
              "    <tr>\n",
              "      <th>2</th>\n",
              "      <td>23.0</td>\n",
              "      <td>female</td>\n",
              "      <td>indian</td>\n",
              "      <td>/content/drive/MyDrive/Age_Geneder_UTKDataSet/...</td>\n",
              "    </tr>\n",
              "    <tr>\n",
              "      <th>3</th>\n",
              "      <td>23.0</td>\n",
              "      <td>female</td>\n",
              "      <td>indian</td>\n",
              "      <td>/content/drive/MyDrive/Age_Geneder_UTKDataSet/...</td>\n",
              "    </tr>\n",
              "    <tr>\n",
              "      <th>4</th>\n",
              "      <td>24.0</td>\n",
              "      <td>male</td>\n",
              "      <td>white</td>\n",
              "      <td>/content/drive/MyDrive/Age_Geneder_UTKDataSet/...</td>\n",
              "    </tr>\n",
              "  </tbody>\n",
              "</table>\n",
              "</div>\n",
              "      <button class=\"colab-df-convert\" onclick=\"convertToInteractive('df-a4f2ba21-07a1-4ebc-9976-b397b2bb893f')\"\n",
              "              title=\"Convert this dataframe to an interactive table.\"\n",
              "              style=\"display:none;\">\n",
              "        \n",
              "  <svg xmlns=\"http://www.w3.org/2000/svg\" height=\"24px\"viewBox=\"0 0 24 24\"\n",
              "       width=\"24px\">\n",
              "    <path d=\"M0 0h24v24H0V0z\" fill=\"none\"/>\n",
              "    <path d=\"M18.56 5.44l.94 2.06.94-2.06 2.06-.94-2.06-.94-.94-2.06-.94 2.06-2.06.94zm-11 1L8.5 8.5l.94-2.06 2.06-.94-2.06-.94L8.5 2.5l-.94 2.06-2.06.94zm10 10l.94 2.06.94-2.06 2.06-.94-2.06-.94-.94-2.06-.94 2.06-2.06.94z\"/><path d=\"M17.41 7.96l-1.37-1.37c-.4-.4-.92-.59-1.43-.59-.52 0-1.04.2-1.43.59L10.3 9.45l-7.72 7.72c-.78.78-.78 2.05 0 2.83L4 21.41c.39.39.9.59 1.41.59.51 0 1.02-.2 1.41-.59l7.78-7.78 2.81-2.81c.8-.78.8-2.07 0-2.86zM5.41 20L4 18.59l7.72-7.72 1.47 1.35L5.41 20z\"/>\n",
              "  </svg>\n",
              "      </button>\n",
              "      \n",
              "  <style>\n",
              "    .colab-df-container {\n",
              "      display:flex;\n",
              "      flex-wrap:wrap;\n",
              "      gap: 12px;\n",
              "    }\n",
              "\n",
              "    .colab-df-convert {\n",
              "      background-color: #E8F0FE;\n",
              "      border: none;\n",
              "      border-radius: 50%;\n",
              "      cursor: pointer;\n",
              "      display: none;\n",
              "      fill: #1967D2;\n",
              "      height: 32px;\n",
              "      padding: 0 0 0 0;\n",
              "      width: 32px;\n",
              "    }\n",
              "\n",
              "    .colab-df-convert:hover {\n",
              "      background-color: #E2EBFA;\n",
              "      box-shadow: 0px 1px 2px rgba(60, 64, 67, 0.3), 0px 1px 3px 1px rgba(60, 64, 67, 0.15);\n",
              "      fill: #174EA6;\n",
              "    }\n",
              "\n",
              "    [theme=dark] .colab-df-convert {\n",
              "      background-color: #3B4455;\n",
              "      fill: #D2E3FC;\n",
              "    }\n",
              "\n",
              "    [theme=dark] .colab-df-convert:hover {\n",
              "      background-color: #434B5C;\n",
              "      box-shadow: 0px 1px 3px 1px rgba(0, 0, 0, 0.15);\n",
              "      filter: drop-shadow(0px 1px 2px rgba(0, 0, 0, 0.3));\n",
              "      fill: #FFFFFF;\n",
              "    }\n",
              "  </style>\n",
              "\n",
              "      <script>\n",
              "        const buttonEl =\n",
              "          document.querySelector('#df-a4f2ba21-07a1-4ebc-9976-b397b2bb893f button.colab-df-convert');\n",
              "        buttonEl.style.display =\n",
              "          google.colab.kernel.accessAllowed ? 'block' : 'none';\n",
              "\n",
              "        async function convertToInteractive(key) {\n",
              "          const element = document.querySelector('#df-a4f2ba21-07a1-4ebc-9976-b397b2bb893f');\n",
              "          const dataTable =\n",
              "            await google.colab.kernel.invokeFunction('convertToInteractive',\n",
              "                                                     [key], {});\n",
              "          if (!dataTable) return;\n",
              "\n",
              "          const docLinkHtml = 'Like what you see? Visit the ' +\n",
              "            '<a target=\"_blank\" href=https://colab.research.google.com/notebooks/data_table.ipynb>data table notebook</a>'\n",
              "            + ' to learn more about interactive tables.';\n",
              "          element.innerHTML = '';\n",
              "          dataTable['output_type'] = 'display_data';\n",
              "          await google.colab.output.renderOutput(dataTable, element);\n",
              "          const docLink = document.createElement('div');\n",
              "          docLink.innerHTML = docLinkHtml;\n",
              "          element.appendChild(docLink);\n",
              "        }\n",
              "      </script>\n",
              "    </div>\n",
              "  </div>\n",
              "  "
            ]
          },
          "metadata": {},
          "execution_count": 125
        }
      ],
      "source": [
        "df = parse_dataset(dataset_folder_name)\n",
        "df.head()\n",
        "\n",
        "# Now we have a pandas dataframe with us. This can be dealt with quite easily. Like, we simply now need \n",
        "# to OHE gender, race and feed it into model. Using Pandas dataframe also allows me to manipulate and \n",
        "# visualize data by plotting graphs."
      ]
    },
    {
      "cell_type": "markdown",
      "metadata": {
        "id": "zabsZu_l49ss"
      },
      "source": [
        "### Data analysis & visualization (EDA)\n",
        "\n",
        "After some data preprocessing, let's analyze the data using graphs to get a  better understanding about its distribution\n",
        "\n",
        "\n",
        "\n"
      ]
    },
    {
      "cell_type": "code",
      "execution_count": 126,
      "metadata": {
        "colab": {
          "base_uri": "https://localhost:8080/"
        },
        "id": "Z1wm7NyCmcbc",
        "outputId": "e16d1c91-4d27-4c92-d5d6-85c1248ea85c"
      },
      "outputs": [
        {
          "output_type": "stream",
          "name": "stdout",
          "text": [
            "<class 'pandas.core.frame.DataFrame'>\n",
            "Int64Index: 8600 entries, 0 to 8600\n",
            "Data columns (total 4 columns):\n",
            " #   Column  Non-Null Count  Dtype  \n",
            "---  ------  --------------  -----  \n",
            " 0   age     8600 non-null   float64\n",
            " 1   gender  8600 non-null   object \n",
            " 2   race    8600 non-null   object \n",
            " 3   file    8600 non-null   object \n",
            "dtypes: float64(1), object(3)\n",
            "memory usage: 335.9+ KB\n"
          ]
        }
      ],
      "source": [
        "df.info()       # No NAN values. Clean dataset"
      ]
    },
    {
      "cell_type": "code",
      "execution_count": 127,
      "metadata": {
        "colab": {
          "base_uri": "https://localhost:8080/",
          "height": 300
        },
        "id": "tlQO4_WKmihH",
        "outputId": "37964337-32d4-45b5-968b-b7ad1dee756a"
      },
      "outputs": [
        {
          "output_type": "execute_result",
          "data": {
            "text/plain": [
              "               age\n",
              "count  8600.000000\n",
              "mean     33.331512\n",
              "std      19.715395\n",
              "min       1.000000\n",
              "25%      23.000000\n",
              "50%      29.000000\n",
              "75%      45.000000\n",
              "max     116.000000"
            ],
            "text/html": [
              "\n",
              "  <div id=\"df-21757fca-96c9-411b-850d-17686a3f82ca\">\n",
              "    <div class=\"colab-df-container\">\n",
              "      <div>\n",
              "<style scoped>\n",
              "    .dataframe tbody tr th:only-of-type {\n",
              "        vertical-align: middle;\n",
              "    }\n",
              "\n",
              "    .dataframe tbody tr th {\n",
              "        vertical-align: top;\n",
              "    }\n",
              "\n",
              "    .dataframe thead th {\n",
              "        text-align: right;\n",
              "    }\n",
              "</style>\n",
              "<table border=\"1\" class=\"dataframe\">\n",
              "  <thead>\n",
              "    <tr style=\"text-align: right;\">\n",
              "      <th></th>\n",
              "      <th>age</th>\n",
              "    </tr>\n",
              "  </thead>\n",
              "  <tbody>\n",
              "    <tr>\n",
              "      <th>count</th>\n",
              "      <td>8600.000000</td>\n",
              "    </tr>\n",
              "    <tr>\n",
              "      <th>mean</th>\n",
              "      <td>33.331512</td>\n",
              "    </tr>\n",
              "    <tr>\n",
              "      <th>std</th>\n",
              "      <td>19.715395</td>\n",
              "    </tr>\n",
              "    <tr>\n",
              "      <th>min</th>\n",
              "      <td>1.000000</td>\n",
              "    </tr>\n",
              "    <tr>\n",
              "      <th>25%</th>\n",
              "      <td>23.000000</td>\n",
              "    </tr>\n",
              "    <tr>\n",
              "      <th>50%</th>\n",
              "      <td>29.000000</td>\n",
              "    </tr>\n",
              "    <tr>\n",
              "      <th>75%</th>\n",
              "      <td>45.000000</td>\n",
              "    </tr>\n",
              "    <tr>\n",
              "      <th>max</th>\n",
              "      <td>116.000000</td>\n",
              "    </tr>\n",
              "  </tbody>\n",
              "</table>\n",
              "</div>\n",
              "      <button class=\"colab-df-convert\" onclick=\"convertToInteractive('df-21757fca-96c9-411b-850d-17686a3f82ca')\"\n",
              "              title=\"Convert this dataframe to an interactive table.\"\n",
              "              style=\"display:none;\">\n",
              "        \n",
              "  <svg xmlns=\"http://www.w3.org/2000/svg\" height=\"24px\"viewBox=\"0 0 24 24\"\n",
              "       width=\"24px\">\n",
              "    <path d=\"M0 0h24v24H0V0z\" fill=\"none\"/>\n",
              "    <path d=\"M18.56 5.44l.94 2.06.94-2.06 2.06-.94-2.06-.94-.94-2.06-.94 2.06-2.06.94zm-11 1L8.5 8.5l.94-2.06 2.06-.94-2.06-.94L8.5 2.5l-.94 2.06-2.06.94zm10 10l.94 2.06.94-2.06 2.06-.94-2.06-.94-.94-2.06-.94 2.06-2.06.94z\"/><path d=\"M17.41 7.96l-1.37-1.37c-.4-.4-.92-.59-1.43-.59-.52 0-1.04.2-1.43.59L10.3 9.45l-7.72 7.72c-.78.78-.78 2.05 0 2.83L4 21.41c.39.39.9.59 1.41.59.51 0 1.02-.2 1.41-.59l7.78-7.78 2.81-2.81c.8-.78.8-2.07 0-2.86zM5.41 20L4 18.59l7.72-7.72 1.47 1.35L5.41 20z\"/>\n",
              "  </svg>\n",
              "      </button>\n",
              "      \n",
              "  <style>\n",
              "    .colab-df-container {\n",
              "      display:flex;\n",
              "      flex-wrap:wrap;\n",
              "      gap: 12px;\n",
              "    }\n",
              "\n",
              "    .colab-df-convert {\n",
              "      background-color: #E8F0FE;\n",
              "      border: none;\n",
              "      border-radius: 50%;\n",
              "      cursor: pointer;\n",
              "      display: none;\n",
              "      fill: #1967D2;\n",
              "      height: 32px;\n",
              "      padding: 0 0 0 0;\n",
              "      width: 32px;\n",
              "    }\n",
              "\n",
              "    .colab-df-convert:hover {\n",
              "      background-color: #E2EBFA;\n",
              "      box-shadow: 0px 1px 2px rgba(60, 64, 67, 0.3), 0px 1px 3px 1px rgba(60, 64, 67, 0.15);\n",
              "      fill: #174EA6;\n",
              "    }\n",
              "\n",
              "    [theme=dark] .colab-df-convert {\n",
              "      background-color: #3B4455;\n",
              "      fill: #D2E3FC;\n",
              "    }\n",
              "\n",
              "    [theme=dark] .colab-df-convert:hover {\n",
              "      background-color: #434B5C;\n",
              "      box-shadow: 0px 1px 3px 1px rgba(0, 0, 0, 0.15);\n",
              "      filter: drop-shadow(0px 1px 2px rgba(0, 0, 0, 0.3));\n",
              "      fill: #FFFFFF;\n",
              "    }\n",
              "  </style>\n",
              "\n",
              "      <script>\n",
              "        const buttonEl =\n",
              "          document.querySelector('#df-21757fca-96c9-411b-850d-17686a3f82ca button.colab-df-convert');\n",
              "        buttonEl.style.display =\n",
              "          google.colab.kernel.accessAllowed ? 'block' : 'none';\n",
              "\n",
              "        async function convertToInteractive(key) {\n",
              "          const element = document.querySelector('#df-21757fca-96c9-411b-850d-17686a3f82ca');\n",
              "          const dataTable =\n",
              "            await google.colab.kernel.invokeFunction('convertToInteractive',\n",
              "                                                     [key], {});\n",
              "          if (!dataTable) return;\n",
              "\n",
              "          const docLinkHtml = 'Like what you see? Visit the ' +\n",
              "            '<a target=\"_blank\" href=https://colab.research.google.com/notebooks/data_table.ipynb>data table notebook</a>'\n",
              "            + ' to learn more about interactive tables.';\n",
              "          element.innerHTML = '';\n",
              "          dataTable['output_type'] = 'display_data';\n",
              "          await google.colab.output.renderOutput(dataTable, element);\n",
              "          const docLink = document.createElement('div');\n",
              "          docLink.innerHTML = docLinkHtml;\n",
              "          element.appendChild(docLink);\n",
              "        }\n",
              "      </script>\n",
              "    </div>\n",
              "  </div>\n",
              "  "
            ]
          },
          "metadata": {},
          "execution_count": 127
        }
      ],
      "source": [
        "df.describe()\n",
        "\n",
        "# Lower percentile - 25, median - 50 & upper percentile - 75 (for numerical data)"
      ]
    },
    {
      "cell_type": "code",
      "execution_count": 128,
      "metadata": {
        "colab": {
          "base_uri": "https://localhost:8080/",
          "height": 268
        },
        "id": "K-d6Te5jCZAP",
        "outputId": "b6914462-6132-4d22-b7fc-165818b1c8d5"
      },
      "outputs": [
        {
          "output_type": "display_data",
          "data": {
            "text/plain": [
              "<Figure size 432x288 with 1 Axes>"
            ],
            "image/png": "[encoded data removed]"
          },
          "metadata": {}
        }
      ],
      "source": [
        "ages = df['age']\n",
        "nbins = 10\n",
        "plt.hist(ages,nbins,color='green',histtype='bar')\n",
        "plt.show()\n",
        "\n",
        "# Majority population lies between 20-30 age group. Clearly, the dataset is not very well balanced. So training will \n",
        "# not be easy & accurate. We don't want to be biased. Try using class weights ?"
      ]
    },
    {
      "cell_type": "code",
      "execution_count": 129,
      "metadata": {
        "colab": {
          "base_uri": "https://localhost:8080/",
          "height": 270
        },
        "id": "_zqXUmzvCoY8",
        "outputId": "7a2a80c6-d940-41c1-bde2-25e9a43d638a"
      },
      "outputs": [
        {
          "output_type": "display_data",
          "data": {
            "text/plain": [
              "<Figure size 432x288 with 1 Axes>"
            ],
            "image/png": "[encoded data removed]"
          },
          "metadata": {}
        }
      ],
      "source": [
        "x = (df.gender=='male').sum()\n",
        "y = (df.gender=='female').sum()\n",
        "gender = [x,y]\n",
        "labels = ['male','female']\n",
        "colors = [ 'y', 'g'] \n",
        "plt.pie(gender,labels = labels,colors = colors,radius=1.2,autopct='%.1f%%')\n",
        "plt.show()\n",
        "\n",
        "# Uniform distribution to a large extent. Although, males slightly exceed females in numbers.No need to change gender in data. \n",
        "# Pretty well balanced ! Lets also visualize this on a bar graph (to get better understanding of numbers)"
      ]
    },
    {
      "cell_type": "code",
      "execution_count": 130,
      "metadata": {
        "colab": {
          "base_uri": "https://localhost:8080/",
          "height": 285
        },
        "id": "WPmYRcKWm2oA",
        "outputId": "02ca93e9-28d1-47b5-f1e1-4e9d7ee6ee84"
      },
      "outputs": [
        {
          "output_type": "display_data",
          "data": {
            "text/plain": [
              "<Figure size 432x288 with 1 Axes>"
            ],
            "image/png": "[encoded data removed]"
          },
          "metadata": {}
        }
      ],
      "source": [
        "sns.countplot(x='gender', data=df);\n",
        "\n",
        "# Males ~ Just over 12k\n",
        "# Females ~ Just over 11k"
      ]
    },
    {
      "cell_type": "code",
      "execution_count": 131,
      "metadata": {
        "colab": {
          "base_uri": "https://localhost:8080/",
          "height": 143
        },
        "id": "URvsgIlLm5WQ",
        "outputId": "10ed0e52-bcd3-44e9-e584-1690c473f5a6"
      },
      "outputs": [
        {
          "output_type": "execute_result",
          "data": {
            "text/plain": [
              "              age\n",
              "gender           \n",
              "female  30.750670\n",
              "male    35.686235"
            ],
            "text/html": [
              "\n",
              "  <div id=\"df-83c715d7-aa63-4a57-a09a-9df9b78ee00f\">\n",
              "    <div class=\"colab-df-container\">\n",
              "      <div>\n",
              "<style scoped>\n",
              "    .dataframe tbody tr th:only-of-type {\n",
              "        vertical-align: middle;\n",
              "    }\n",
              "\n",
              "    .dataframe tbody tr th {\n",
              "        vertical-align: top;\n",
              "    }\n",
              "\n",
              "    .dataframe thead th {\n",
              "        text-align: right;\n",
              "    }\n",
              "</style>\n",
              "<table border=\"1\" class=\"dataframe\">\n",
              "  <thead>\n",
              "    <tr style=\"text-align: right;\">\n",
              "      <th></th>\n",
              "      <th>age</th>\n",
              "    </tr>\n",
              "    <tr>\n",
              "      <th>gender</th>\n",
              "      <th></th>\n",
              "    </tr>\n",
              "  </thead>\n",
              "  <tbody>\n",
              "    <tr>\n",
              "      <th>female</th>\n",
              "      <td>30.750670</td>\n",
              "    </tr>\n",
              "    <tr>\n",
              "      <th>male</th>\n",
              "      <td>35.686235</td>\n",
              "    </tr>\n",
              "  </tbody>\n",
              "</table>\n",
              "</div>\n",
              "      <button class=\"colab-df-convert\" onclick=\"convertToInteractive('df-83c715d7-aa63-4a57-a09a-9df9b78ee00f')\"\n",
              "              title=\"Convert this dataframe to an interactive table.\"\n",
              "              style=\"display:none;\">\n",
              "        \n",
              "  <svg xmlns=\"http://www.w3.org/2000/svg\" height=\"24px\"viewBox=\"0 0 24 24\"\n",
              "       width=\"24px\">\n",
              "    <path d=\"M0 0h24v24H0V0z\" fill=\"none\"/>\n",
              "    <path d=\"M18.56 5.44l.94 2.06.94-2.06 2.06-.94-2.06-.94-.94-2.06-.94 2.06-2.06.94zm-11 1L8.5 8.5l.94-2.06 2.06-.94-2.06-.94L8.5 2.5l-.94 2.06-2.06.94zm10 10l.94 2.06.94-2.06 2.06-.94-2.06-.94-.94-2.06-.94 2.06-2.06.94z\"/><path d=\"M17.41 7.96l-1.37-1.37c-.4-.4-.92-.59-1.43-.59-.52 0-1.04.2-1.43.59L10.3 9.45l-7.72 7.72c-.78.78-.78 2.05 0 2.83L4 21.41c.39.39.9.59 1.41.59.51 0 1.02-.2 1.41-.59l7.78-7.78 2.81-2.81c.8-.78.8-2.07 0-2.86zM5.41 20L4 18.59l7.72-7.72 1.47 1.35L5.41 20z\"/>\n",
              "  </svg>\n",
              "      </button>\n",
              "      \n",
              "  <style>\n",
              "    .colab-df-container {\n",
              "      display:flex;\n",
              "      flex-wrap:wrap;\n",
              "      gap: 12px;\n",
              "    }\n",
              "\n",
              "    .colab-df-convert {\n",
              "      background-color: #E8F0FE;\n",
              "      border: none;\n",
              "      border-radius: 50%;\n",
              "      cursor: pointer;\n",
              "      display: none;\n",
              "      fill: #1967D2;\n",
              "      height: 32px;\n",
              "      padding: 0 0 0 0;\n",
              "      width: 32px;\n",
              "    }\n",
              "\n",
              "    .colab-df-convert:hover {\n",
              "      background-color: #E2EBFA;\n",
              "      box-shadow: 0px 1px 2px rgba(60, 64, 67, 0.3), 0px 1px 3px 1px rgba(60, 64, 67, 0.15);\n",
              "      fill: #174EA6;\n",
              "    }\n",
              "\n",
              "    [theme=dark] .colab-df-convert {\n",
              "      background-color: #3B4455;\n",
              "      fill: #D2E3FC;\n",
              "    }\n",
              "\n",
              "    [theme=dark] .colab-df-convert:hover {\n",
              "      background-color: #434B5C;\n",
              "      box-shadow: 0px 1px 3px 1px rgba(0, 0, 0, 0.15);\n",
              "      filter: drop-shadow(0px 1px 2px rgba(0, 0, 0, 0.3));\n",
              "      fill: #FFFFFF;\n",
              "    }\n",
              "  </style>\n",
              "\n",
              "      <script>\n",
              "        const buttonEl =\n",
              "          document.querySelector('#df-83c715d7-aa63-4a57-a09a-9df9b78ee00f button.colab-df-convert');\n",
              "        buttonEl.style.display =\n",
              "          google.colab.kernel.accessAllowed ? 'block' : 'none';\n",
              "\n",
              "        async function convertToInteractive(key) {\n",
              "          const element = document.querySelector('#df-83c715d7-aa63-4a57-a09a-9df9b78ee00f');\n",
              "          const dataTable =\n",
              "            await google.colab.kernel.invokeFunction('convertToInteractive',\n",
              "                                                     [key], {});\n",
              "          if (!dataTable) return;\n",
              "\n",
              "          const docLinkHtml = 'Like what you see? Visit the ' +\n",
              "            '<a target=\"_blank\" href=https://colab.research.google.com/notebooks/data_table.ipynb>data table notebook</a>'\n",
              "            + ' to learn more about interactive tables.';\n",
              "          element.innerHTML = '';\n",
              "          dataTable['output_type'] = 'display_data';\n",
              "          await google.colab.output.renderOutput(dataTable, element);\n",
              "          const docLink = document.createElement('div');\n",
              "          docLink.innerHTML = docLinkHtml;\n",
              "          element.appendChild(docLink);\n",
              "        }\n",
              "      </script>\n",
              "    </div>\n",
              "  </div>\n",
              "  "
            ]
          },
          "metadata": {},
          "execution_count": 131
        }
      ],
      "source": [
        "df.groupby(['gender']).mean()             # Mean age by gender"
      ]
    },
    {
      "cell_type": "code",
      "execution_count": 132,
      "metadata": {
        "colab": {
          "base_uri": "https://localhost:8080/",
          "height": 259
        },
        "id": "F7VpVyjzf60k",
        "outputId": "e18cbf4d-1842-4b10-eaae-f23ab486212c"
      },
      "outputs": [
        {
          "output_type": "display_data",
          "data": {
            "text/plain": [
              "<Figure size 432x288 with 1 Axes>"
            ],
            "image/png": "[encoded data removed]"
          },
          "metadata": {}
        }
      ],
      "source": [
        "x = (df.race=='white').sum()\n",
        "y = (df.race=='black').sum()\n",
        "z = (df.race=='asian').sum()\n",
        "a = (df.race=='indian').sum()\n",
        "b = (df.race=='others').sum()\n",
        "\n",
        "gender = [x,y,z,a,b]\n",
        "labels = ['white','black','asian','indian','others']\n",
        "colors = [ 'y', 'g','b','r','m'] \n",
        "plt.pie(gender,labels = labels,colors = colors,radius=1.2,autopct='%.1f%%')\n",
        "plt.show()"
      ]
    },
    {
      "cell_type": "code",
      "execution_count": 133,
      "metadata": {
        "colab": {
          "base_uri": "https://localhost:8080/",
          "height": 237
        },
        "id": "ktdLw0fCm-gO",
        "outputId": "c798b65f-2c5e-42a3-d9ca-deb5d932a1e6"
      },
      "outputs": [
        {
          "output_type": "execute_result",
          "data": {
            "text/plain": [
              "              age\n",
              "race             \n",
              "asian   25.852003\n",
              "black   34.074385\n",
              "indian  31.317606\n",
              "others  22.846512\n",
              "white   38.141289"
            ],
            "text/html": [
              "\n",
              "  <div id=\"df-fa434170-dd3c-4c71-a921-fab5a0d734dc\">\n",
              "    <div class=\"colab-df-container\">\n",
              "      <div>\n",
              "<style scoped>\n",
              "    .dataframe tbody tr th:only-of-type {\n",
              "        vertical-align: middle;\n",
              "    }\n",
              "\n",
              "    .dataframe tbody tr th {\n",
              "        vertical-align: top;\n",
              "    }\n",
              "\n",
              "    .dataframe thead th {\n",
              "        text-align: right;\n",
              "    }\n",
              "</style>\n",
              "<table border=\"1\" class=\"dataframe\">\n",
              "  <thead>\n",
              "    <tr style=\"text-align: right;\">\n",
              "      <th></th>\n",
              "      <th>age</th>\n",
              "    </tr>\n",
              "    <tr>\n",
              "      <th>race</th>\n",
              "      <th></th>\n",
              "    </tr>\n",
              "  </thead>\n",
              "  <tbody>\n",
              "    <tr>\n",
              "      <th>asian</th>\n",
              "      <td>25.852003</td>\n",
              "    </tr>\n",
              "    <tr>\n",
              "      <th>black</th>\n",
              "      <td>34.074385</td>\n",
              "    </tr>\n",
              "    <tr>\n",
              "      <th>indian</th>\n",
              "      <td>31.317606</td>\n",
              "    </tr>\n",
              "    <tr>\n",
              "      <th>others</th>\n",
              "      <td>22.846512</td>\n",
              "    </tr>\n",
              "    <tr>\n",
              "      <th>white</th>\n",
              "      <td>38.141289</td>\n",
              "    </tr>\n",
              "  </tbody>\n",
              "</table>\n",
              "</div>\n",
              "      <button class=\"colab-df-convert\" onclick=\"convertToInteractive('df-fa434170-dd3c-4c71-a921-fab5a0d734dc')\"\n",
              "              title=\"Convert this dataframe to an interactive table.\"\n",
              "              style=\"display:none;\">\n",
              "        \n",
              "  <svg xmlns=\"http://www.w3.org/2000/svg\" height=\"24px\"viewBox=\"0 0 24 24\"\n",
              "       width=\"24px\">\n",
              "    <path d=\"M0 0h24v24H0V0z\" fill=\"none\"/>\n",
              "    <path d=\"M18.56 5.44l.94 2.06.94-2.06 2.06-.94-2.06-.94-.94-2.06-.94 2.06-2.06.94zm-11 1L8.5 8.5l.94-2.06 2.06-.94-2.06-.94L8.5 2.5l-.94 2.06-2.06.94zm10 10l.94 2.06.94-2.06 2.06-.94-2.06-.94-.94-2.06-.94 2.06-2.06.94z\"/><path d=\"M17.41 7.96l-1.37-1.37c-.4-.4-.92-.59-1.43-.59-.52 0-1.04.2-1.43.59L10.3 9.45l-7.72 7.72c-.78.78-.78 2.05 0 2.83L4 21.41c.39.39.9.59 1.41.59.51 0 1.02-.2 1.41-.59l7.78-7.78 2.81-2.81c.8-.78.8-2.07 0-2.86zM5.41 20L4 18.59l7.72-7.72 1.47 1.35L5.41 20z\"/>\n",
              "  </svg>\n",
              "      </button>\n",
              "      \n",
              "  <style>\n",
              "    .colab-df-container {\n",
              "      display:flex;\n",
              "      flex-wrap:wrap;\n",
              "      gap: 12px;\n",
              "    }\n",
              "\n",
              "    .colab-df-convert {\n",
              "      background-color: #E8F0FE;\n",
              "      border: none;\n",
              "      border-radius: 50%;\n",
              "      cursor: pointer;\n",
              "      display: none;\n",
              "      fill: #1967D2;\n",
              "      height: 32px;\n",
              "      padding: 0 0 0 0;\n",
              "      width: 32px;\n",
              "    }\n",
              "\n",
              "    .colab-df-convert:hover {\n",
              "      background-color: #E2EBFA;\n",
              "      box-shadow: 0px 1px 2px rgba(60, 64, 67, 0.3), 0px 1px 3px 1px rgba(60, 64, 67, 0.15);\n",
              "      fill: #174EA6;\n",
              "    }\n",
              "\n",
              "    [theme=dark] .colab-df-convert {\n",
              "      background-color: #3B4455;\n",
              "      fill: #D2E3FC;\n",
              "    }\n",
              "\n",
              "    [theme=dark] .colab-df-convert:hover {\n",
              "      background-color: #434B5C;\n",
              "      box-shadow: 0px 1px 3px 1px rgba(0, 0, 0, 0.15);\n",
              "      filter: drop-shadow(0px 1px 2px rgba(0, 0, 0, 0.3));\n",
              "      fill: #FFFFFF;\n",
              "    }\n",
              "  </style>\n",
              "\n",
              "      <script>\n",
              "        const buttonEl =\n",
              "          document.querySelector('#df-fa434170-dd3c-4c71-a921-fab5a0d734dc button.colab-df-convert');\n",
              "        buttonEl.style.display =\n",
              "          google.colab.kernel.accessAllowed ? 'block' : 'none';\n",
              "\n",
              "        async function convertToInteractive(key) {\n",
              "          const element = document.querySelector('#df-fa434170-dd3c-4c71-a921-fab5a0d734dc');\n",
              "          const dataTable =\n",
              "            await google.colab.kernel.invokeFunction('convertToInteractive',\n",
              "                                                     [key], {});\n",
              "          if (!dataTable) return;\n",
              "\n",
              "          const docLinkHtml = 'Like what you see? Visit the ' +\n",
              "            '<a target=\"_blank\" href=https://colab.research.google.com/notebooks/data_table.ipynb>data table notebook</a>'\n",
              "            + ' to learn more about interactive tables.';\n",
              "          element.innerHTML = '';\n",
              "          dataTable['output_type'] = 'display_data';\n",
              "          await google.colab.output.renderOutput(dataTable, element);\n",
              "          const docLink = document.createElement('div');\n",
              "          docLink.innerHTML = docLinkHtml;\n",
              "          element.appendChild(docLink);\n",
              "        }\n",
              "      </script>\n",
              "    </div>\n",
              "  </div>\n",
              "  "
            ]
          },
          "metadata": {},
          "execution_count": 133
        }
      ],
      "source": [
        "df.groupby(['race']).mean()               # Mean age by race"
      ]
    },
    {
      "cell_type": "code",
      "execution_count": 134,
      "metadata": {
        "colab": {
          "base_uri": "https://localhost:8080/",
          "height": 286
        },
        "id": "wwTJEdNhnC4v",
        "outputId": "e6784aea-7698-4ec6-d1af-e03e8a717027"
      },
      "outputs": [
        {
          "output_type": "display_data",
          "data": {
            "text/plain": [
              "<Figure size 432x288 with 1 Axes>"
            ],
            "image/png": "[encoded data removed]"
          },
          "metadata": {}
        }
      ],
      "source": [
        "sns.set(style =\"whitegrid\") \n",
        "_ = sns.stripplot(x='race',y='age',data=df)\n",
        "\n",
        "# Not very useful :( , we only understand that not many elderly ppl (above 60) in others category are present "
      ]
    },
    {
      "cell_type": "code",
      "execution_count": 135,
      "metadata": {
        "colab": {
          "base_uri": "https://localhost:8080/",
          "height": 456
        },
        "id": "L21qaRLfnEIs",
        "outputId": "48e6a14f-9b48-41c9-c41d-db1563d86895"
      },
      "outputs": [
        {
          "output_type": "stream",
          "name": "stderr",
          "text": [
            "/usr/local/lib/python3.7/dist-packages/seaborn/categorical.py:3717: UserWarning: The `factorplot` function has been renamed to `catplot`. The original name will be removed in a future release. Please update your code. Note that the default `kind` in `factorplot` (`'point'`) has changed `'strip'` in `catplot`.\n",
            "  warnings.warn(msg)\n",
            "/usr/local/lib/python3.7/dist-packages/seaborn/_decorators.py:43: FutureWarning: Pass the following variables as keyword args: x, y, hue. From version 0.12, the only valid positional argument will be `data`, and passing other arguments without an explicit keyword will result in an error or misinterpretation.\n",
            "  FutureWarning\n"
          ]
        },
        {
          "output_type": "display_data",
          "data": {
            "text/plain": [
              "<Figure size 437.975x360 with 1 Axes>"
            ],
            "image/png": "[encoded data removed]"
          },
          "metadata": {}
        }
      ],
      "source": [
        "sns.factorplot('race', 'age', 'gender', data=df,kind='bar');\n",
        "\n",
        "# Gives the mean age of both genders of all races"
      ]
    },
    {
      "cell_type": "code",
      "execution_count": 136,
      "metadata": {
        "colab": {
          "base_uri": "https://localhost:8080/",
          "height": 394
        },
        "id": "mMwhlvZCEvfh",
        "outputId": "99406123-14f8-4db5-df4a-e16d21cb886d"
      },
      "outputs": [
        {
          "output_type": "display_data",
          "data": {
            "text/plain": [
              "<Figure size 1080x432 with 2 Axes>"
            ],
            "image/png": "[encoded data removed]"
          },
          "metadata": {}
        }
      ],
      "source": [
        "fig, (ax1, ax2) = plt.subplots(1, 2, figsize=(15, 6))\n",
        "_ = sns.boxplot(data=df, x='gender', y='age', ax=ax1)\n",
        "_ = sns.boxplot(data=df, x='race', y='age', ax=ax2)\n",
        "\n",
        "# We see that most of males are between 25 and 55, whereas most of the females are between 20 and 35\n",
        "# Even while grouping by race, we find good amount of variations in different races"
      ]
    },
    {
      "cell_type": "code",
      "execution_count": 137,
      "metadata": {
        "colab": {
          "base_uri": "https://localhost:8080/",
          "height": 35
        },
        "id": "UwHXd5SiZOOe",
        "outputId": "b574643d-f82a-4e04-b7a4-8112d82ee3be"
      },
      "outputs": [
        {
          "output_type": "execute_result",
          "data": {
            "text/plain": [
              "' This basically makes 5 divisions in age-groups - \\n1. 0-24\\n2. 25-49\\n3. 50-74\\n4. 75-99\\n5. 100-124 '"
            ],
            "application/vnd.google.colaboratory.intrinsic+json": {
              "type": "string"
            }
          },
          "metadata": {},
          "execution_count": 137
        }
      ],
      "source": [
        "df['age'] = df['age']//25\n",
        "\n",
        "''' This basically makes 5 divisions in age-groups - \n",
        "1. 0-24\n",
        "2. 25-49\n",
        "3. 50-74\n",
        "4. 75-99\n",
        "5. 100-124 '''"
      ]
    },
    {
      "cell_type": "code",
      "execution_count": 138,
      "metadata": {
        "colab": {
          "base_uri": "https://localhost:8080/"
        },
        "id": "jZdwi9g299yT",
        "outputId": "3f3987f0-ca4e-4bd0-945a-b81d5b9cb916"
      },
      "outputs": [
        {
          "output_type": "stream",
          "name": "stdout",
          "text": [
            "2463   4306   1478   345   8   0\n"
          ]
        }
      ],
      "source": [
        "x = (df.age==0).sum()\n",
        "y = (df.age==1).sum()\n",
        "z = (df.age==2).sum()\n",
        "a = (df.age==3).sum()\n",
        "b = (df.age==4).sum()\n",
        "c = (df.age==5).sum()\n",
        "\n",
        "print(x,' ',y,' ',z,' ',a,' ',b, ' ',c)\n"
      ]
    },
    {
      "cell_type": "code",
      "execution_count": 139,
      "metadata": {
        "colab": {
          "base_uri": "https://localhost:8080/",
          "height": 206
        },
        "id": "WykEQKn9DYW-",
        "outputId": "5f723db5-d498-4142-dcc0-bb73c5fb2055"
      },
      "outputs": [
        {
          "output_type": "execute_result",
          "data": {
            "text/plain": [
              "   age  gender    race                                               file\n",
              "0  0.0  female  indian  /content/drive/MyDrive/Age_Geneder_UTKDataSet/...\n",
              "1  0.0  female  indian  /content/drive/MyDrive/Age_Geneder_UTKDataSet/...\n",
              "2  0.0  female  indian  /content/drive/MyDrive/Age_Geneder_UTKDataSet/...\n",
              "3  0.0  female  indian  /content/drive/MyDrive/Age_Geneder_UTKDataSet/...\n",
              "4  0.0    male   white  /content/drive/MyDrive/Age_Geneder_UTKDataSet/..."
            ],
            "text/html": [
              "\n",
              "  <div id=\"df-f5d776bd-81f9-4264-9ae3-2cb599581cf4\">\n",
              "    <div class=\"colab-df-container\">\n",
              "      <div>\n",
              "<style scoped>\n",
              "    .dataframe tbody tr th:only-of-type {\n",
              "        vertical-align: middle;\n",
              "    }\n",
              "\n",
              "    .dataframe tbody tr th {\n",
              "        vertical-align: top;\n",
              "    }\n",
              "\n",
              "    .dataframe thead th {\n",
              "        text-align: right;\n",
              "    }\n",
              "</style>\n",
              "<table border=\"1\" class=\"dataframe\">\n",
              "  <thead>\n",
              "    <tr style=\"text-align: right;\">\n",
              "      <th></th>\n",
              "      <th>age</th>\n",
              "      <th>gender</th>\n",
              "      <th>race</th>\n",
              "      <th>file</th>\n",
              "    </tr>\n",
              "  </thead>\n",
              "  <tbody>\n",
              "    <tr>\n",
              "      <th>0</th>\n",
              "      <td>0.0</td>\n",
              "      <td>female</td>\n",
              "      <td>indian</td>\n",
              "      <td>/content/drive/MyDrive/Age_Geneder_UTKDataSet/...</td>\n",
              "    </tr>\n",
              "    <tr>\n",
              "      <th>1</th>\n",
              "      <td>0.0</td>\n",
              "      <td>female</td>\n",
              "      <td>indian</td>\n",
              "      <td>/content/drive/MyDrive/Age_Geneder_UTKDataSet/...</td>\n",
              "    </tr>\n",
              "    <tr>\n",
              "      <th>2</th>\n",
              "      <td>0.0</td>\n",
              "      <td>female</td>\n",
              "      <td>indian</td>\n",
              "      <td>/content/drive/MyDrive/Age_Geneder_UTKDataSet/...</td>\n",
              "    </tr>\n",
              "    <tr>\n",
              "      <th>3</th>\n",
              "      <td>0.0</td>\n",
              "      <td>female</td>\n",
              "      <td>indian</td>\n",
              "      <td>/content/drive/MyDrive/Age_Geneder_UTKDataSet/...</td>\n",
              "    </tr>\n",
              "    <tr>\n",
              "      <th>4</th>\n",
              "      <td>0.0</td>\n",
              "      <td>male</td>\n",
              "      <td>white</td>\n",
              "      <td>/content/drive/MyDrive/Age_Geneder_UTKDataSet/...</td>\n",
              "    </tr>\n",
              "  </tbody>\n",
              "</table>\n",
              "</div>\n",
              "      <button class=\"colab-df-convert\" onclick=\"convertToInteractive('df-f5d776bd-81f9-4264-9ae3-2cb599581cf4')\"\n",
              "              title=\"Convert this dataframe to an interactive table.\"\n",
              "              style=\"display:none;\">\n",
              "        \n",
              "  <svg xmlns=\"http://www.w3.org/2000/svg\" height=\"24px\"viewBox=\"0 0 24 24\"\n",
              "       width=\"24px\">\n",
              "    <path d=\"M0 0h24v24H0V0z\" fill=\"none\"/>\n",
              "    <path d=\"M18.56 5.44l.94 2.06.94-2.06 2.06-.94-2.06-.94-.94-2.06-.94 2.06-2.06.94zm-11 1L8.5 8.5l.94-2.06 2.06-.94-2.06-.94L8.5 2.5l-.94 2.06-2.06.94zm10 10l.94 2.06.94-2.06 2.06-.94-2.06-.94-.94-2.06-.94 2.06-2.06.94z\"/><path d=\"M17.41 7.96l-1.37-1.37c-.4-.4-.92-.59-1.43-.59-.52 0-1.04.2-1.43.59L10.3 9.45l-7.72 7.72c-.78.78-.78 2.05 0 2.83L4 21.41c.39.39.9.59 1.41.59.51 0 1.02-.2 1.41-.59l7.78-7.78 2.81-2.81c.8-.78.8-2.07 0-2.86zM5.41 20L4 18.59l7.72-7.72 1.47 1.35L5.41 20z\"/>\n",
              "  </svg>\n",
              "      </button>\n",
              "      \n",
              "  <style>\n",
              "    .colab-df-container {\n",
              "      display:flex;\n",
              "      flex-wrap:wrap;\n",
              "      gap: 12px;\n",
              "    }\n",
              "\n",
              "    .colab-df-convert {\n",
              "      background-color: #E8F0FE;\n",
              "      border: none;\n",
              "      border-radius: 50%;\n",
              "      cursor: pointer;\n",
              "      display: none;\n",
              "      fill: #1967D2;\n",
              "      height: 32px;\n",
              "      padding: 0 0 0 0;\n",
              "      width: 32px;\n",
              "    }\n",
              "\n",
              "    .colab-df-convert:hover {\n",
              "      background-color: #E2EBFA;\n",
              "      box-shadow: 0px 1px 2px rgba(60, 64, 67, 0.3), 0px 1px 3px 1px rgba(60, 64, 67, 0.15);\n",
              "      fill: #174EA6;\n",
              "    }\n",
              "\n",
              "    [theme=dark] .colab-df-convert {\n",
              "      background-color: #3B4455;\n",
              "      fill: #D2E3FC;\n",
              "    }\n",
              "\n",
              "    [theme=dark] .colab-df-convert:hover {\n",
              "      background-color: #434B5C;\n",
              "      box-shadow: 0px 1px 3px 1px rgba(0, 0, 0, 0.15);\n",
              "      filter: drop-shadow(0px 1px 2px rgba(0, 0, 0, 0.3));\n",
              "      fill: #FFFFFF;\n",
              "    }\n",
              "  </style>\n",
              "\n",
              "      <script>\n",
              "        const buttonEl =\n",
              "          document.querySelector('#df-f5d776bd-81f9-4264-9ae3-2cb599581cf4 button.colab-df-convert');\n",
              "        buttonEl.style.display =\n",
              "          google.colab.kernel.accessAllowed ? 'block' : 'none';\n",
              "\n",
              "        async function convertToInteractive(key) {\n",
              "          const element = document.querySelector('#df-f5d776bd-81f9-4264-9ae3-2cb599581cf4');\n",
              "          const dataTable =\n",
              "            await google.colab.kernel.invokeFunction('convertToInteractive',\n",
              "                                                     [key], {});\n",
              "          if (!dataTable) return;\n",
              "\n",
              "          const docLinkHtml = 'Like what you see? Visit the ' +\n",
              "            '<a target=\"_blank\" href=https://colab.research.google.com/notebooks/data_table.ipynb>data table notebook</a>'\n",
              "            + ' to learn more about interactive tables.';\n",
              "          element.innerHTML = '';\n",
              "          dataTable['output_type'] = 'display_data';\n",
              "          await google.colab.output.renderOutput(dataTable, element);\n",
              "          const docLink = document.createElement('div');\n",
              "          docLink.innerHTML = docLinkHtml;\n",
              "          element.appendChild(docLink);\n",
              "        }\n",
              "      </script>\n",
              "    </div>\n",
              "  </div>\n",
              "  "
            ]
          },
          "metadata": {},
          "execution_count": 139
        }
      ],
      "source": [
        "df.head()"
      ]
    },
    {
      "cell_type": "markdown",
      "metadata": {
        "id": "fGjYC8YbiYOr"
      },
      "source": [
        "## Data Generator\n",
        "In order to input our data to our Keras multi-output model, we have a helper object to work as a data generator for our dataset. This will be done by generating batches of data, which will be used to feed our multi-output model with both the images and their labels (instead of just loading all the dataset into the memory at once, which might lead to an out of memory error)."
      ]
    },
    {
      "cell_type": "code",
      "execution_count": 140,
      "metadata": {
        "id": "kMRE13cQpr-i"
      },
      "outputs": [],
      "source": [
        "from tensorflow.keras.utils import to_categorical\n",
        "from PIL import Image\n",
        "p = np.random.permutation(len(df))\n",
        "\n",
        "train_up_to = int(len(df) * TRAIN_TEST_SPLIT)      \n",
        "train_idx = p[:train_up_to]\n",
        "val_idx = p[train_up_to:]\n",
        "\n",
        "# converts alias to id\n",
        "df['gender_id'] = df['gender'].map(lambda gender: dataset_dict['gender_alias'][gender])\n",
        "df['race_id'] = df['race'].map(lambda race: dataset_dict['race_alias'][race])\n",
        "\n",
        "# Now we got train_idx, valid_idx, test_idx\n",
        "            \n",
        "def preprocess_image(img_path):   # Used to perform some minor preprocessing on the image before inputting into the network.\n",
        "    \n",
        "    im = Image.open(img_path)\n",
        "    im = im.resize((IM_WIDTH, IM_HEIGHT))\n",
        "    im = np.array(im) / 255.0\n",
        "    \n",
        "    return im\n",
        "        \n",
        "def generate_images(image_idx, is_training, batch_size=16):  # Used to generate a batch with images when training/validating our model.\n",
        "    \n",
        "    # arrays to store our batched data\n",
        "    images, ages, races, genders = [], [], [], []\n",
        "\n",
        "    while True:\n",
        "        for idx in image_idx:\n",
        "            person = df.iloc[idx]\n",
        "            \n",
        "            age = person['age']\n",
        "            race = person['race_id']\n",
        "            gender = person['gender_id']\n",
        "            file = person['file']\n",
        "            \n",
        "            im = preprocess_image(file)\n",
        "            \n",
        "            races.append(to_categorical(race, len(dataset_dict['race_id'])))\n",
        "            genders.append(to_categorical(gender, len(dataset_dict['gender_id'])))\n",
        "            ages.append(to_categorical(age,5))\n",
        "            images.append(im)\n",
        "            \n",
        "            # yielding condition\n",
        "            if len(images) >= batch_size:\n",
        "                yield np.array(images), [np.array(ages), np.array(genders)]\n",
        "                images, ages, genders = [], [], []\n",
        "                \n",
        "        if not is_training:\n",
        "            break\n",
        "            "
      ]
    },
    {
      "cell_type": "markdown",
      "metadata": {
        "id": "_ObdH1MkKatt"
      },
      "source": [
        "## Model Architecture"
      ]
    },
    {
      "cell_type": "code",
      "execution_count": 141,
      "metadata": {
        "id": "sKw1rg2SE4og"
      },
      "outputs": [],
      "source": [
        "from keras.models import Model\n",
        "from tensorflow.keras.layers import BatchNormalization\n",
        "from keras.layers.convolutional import Conv2D\n",
        "from keras.layers.convolutional import SeparableConv2D\n",
        "from keras.layers.convolutional import MaxPooling2D\n",
        "from keras.layers.core import Activation\n",
        "from keras.layers.core import Dropout\n",
        "from keras.layers import SpatialDropout2D\n",
        "from keras.layers.core import Lambda\n",
        "from keras.layers.core import Dense\n",
        "from keras.layers import Flatten\n",
        "from keras.layers import Input\n",
        "from keras.regularizers import l2\n",
        "\n",
        "import tensorflow as tf\n",
        "\n",
        "def make_default_hidden_layers(inputs):\n",
        "\n",
        "    x = SeparableConv2D(32, (3, 3), padding=\"same\")(inputs)\n",
        "    x = Activation(\"relu\")(x)\n",
        "    x = MaxPooling2D(pool_size=(3, 3))(x)\n",
        "    x = BatchNormalization(axis=-1)(x)\n",
        "\n",
        "    x = SeparableConv2D(64, (3, 3), padding=\"same\")(x)\n",
        "    x = Activation(\"relu\")(x)\n",
        "    x = MaxPooling2D(pool_size=(2, 2))(x)\n",
        "    x = BatchNormalization(axis=-1)(x)\n",
        "\n",
        "    x = SeparableConv2D(128, (3, 3), padding=\"same\")(x)\n",
        "    x = Activation(\"relu\")(x)\n",
        "    x = MaxPooling2D(pool_size=(2, 2))(x)\n",
        "    x = BatchNormalization(axis=-1)(x)\n",
        "\n",
        "    x = SeparableConv2D(128, (3, 3), padding=\"same\")(x)\n",
        "    x = Activation(\"relu\")(x)\n",
        "    x = MaxPooling2D(pool_size=(2, 2))(x)\n",
        "    x = SpatialDropout2D(0.1)(x)\n",
        "    x = BatchNormalization(axis=-1)(x)\n",
        "\n",
        "    x = SeparableConv2D(256, (3, 3), padding=\"same\")(x)\n",
        "    x = Activation(\"relu\")(x)\n",
        "    x = MaxPooling2D(pool_size=(2, 2))(x)\n",
        "    x = SpatialDropout2D(0.1)(x)\n",
        "    x = BatchNormalization(axis=-1)(x)\n",
        "\n",
        "    x = SeparableConv2D(256, (3, 3), padding=\"same\")(x)\n",
        "    x = Activation(\"relu\")(x)\n",
        "    x = MaxPooling2D(pool_size=(2, 2))(x)\n",
        "    x = SpatialDropout2D(0.15)(x)\n",
        "    x = BatchNormalization(axis=-1)(x)\n",
        "\n",
        "    x = SeparableConv2D(256, (3, 3), padding=\"same\")(x)\n",
        "    x = Activation(\"relu\")(x)\n",
        "    x = MaxPooling2D(pool_size=(2, 2))(x)\n",
        "    x = SpatialDropout2D(0.15)(x)\n",
        "    x = BatchNormalization(axis=-1)(x)\n",
        "\n",
        "    return x\n",
        "\n",
        "def build_gender_branch(inputs):\n",
        "  \n",
        "    x = make_default_hidden_layers(inputs)\n",
        "\n",
        "    x = Flatten()(x)\n",
        "    x = Dense(64)(x)\n",
        "    x = Activation(\"relu\")(x)\n",
        "    x = Dropout(0.3)(x)\n",
        "    x = BatchNormalization()(x)\n",
        "\n",
        "    x = Dense(32)(x)\n",
        "    x = Activation(\"relu\")(x)\n",
        "    x = Dropout(0.25)(x)\n",
        "    x = BatchNormalization()(x)\n",
        "  \n",
        "    x = Dense(2)(x)\n",
        "    x = Activation(\"softmax\", name=\"gender_output\")(x)\n",
        "\n",
        "    return x\n",
        "\n",
        "def build_age_branch(inputs):   \n",
        "\n",
        "    x = make_default_hidden_layers(inputs)\n",
        "    \n",
        "    x = Flatten()(x)\n",
        "    x = Dense(128, kernel_regularizer=l2(0.03))(x)\n",
        "    x = Activation(\"relu\")(x)\n",
        "    x = Dropout(0.3)(x)\n",
        "    x = BatchNormalization()(x)\n",
        "\n",
        "    x = Dense(64)(x)\n",
        "    x = Activation(\"relu\")(x)\n",
        "    x = Dropout(0.3)(x)\n",
        "    x = BatchNormalization()(x)\n",
        "    \n",
        "    x = Dense(32)(x)\n",
        "    x = Activation(\"relu\")(x)\n",
        "    x = Dropout(0.2)(x)\n",
        "    x = BatchNormalization()(x)\n",
        "\n",
        "    x = Dense(5)(x)\n",
        "    x = Activation(\"softmax\", name=\"age_output\")(x)  \n",
        "\n",
        "    return x\n",
        "\n",
        "\n",
        "def assemble_model(width, height):\n",
        "  \n",
        "    input_shape = (height, width, 3)\n",
        "    inputs = Input(shape=input_shape)\n",
        "\n",
        "    age_branch = build_age_branch(inputs)\n",
        "    gender_branch = build_gender_branch(inputs)\n",
        "\n",
        "    model = Model(inputs=inputs, outputs = [age_branch, gender_branch], name=\"face_net\")\n",
        "\n",
        "    return model\n",
        "    \n",
        "model = assemble_model(198, 198)"
      ]
    },
    {
      "cell_type": "markdown",
      "metadata": {
        "id": "mRq7S0N8hQmP"
      },
      "source": [
        "Filter size tends to decrease with depth of the model (initial layers have larger receptive fields)."
      ]
    },
    {
      "cell_type": "code",
      "execution_count": 142,
      "metadata": {
        "colab": {
          "base_uri": "https://localhost:8080/"
        },
        "id": "PtFNWMK011mL",
        "outputId": "1f83657a-259e-4ad9-d539-2c4183b61708"
      },
      "outputs": [
        {
          "output_type": "stream",
          "name": "stdout",
          "text": [
            "Model: \"face_net\"\n",
            "__________________________________________________________________________________________________\n",
            " Layer (type)                   Output Shape         Param #     Connected to                     \n",
            "==================================================================================================\n",
            " input_4 (InputLayer)           [(None, 198, 198, 3  0           []                               \n",
            "                                )]                                                                \n",
            "                                                                                                  \n",
            " separable_conv2d_42 (Separable  (None, 198, 198, 32  155        ['input_4[0][0]']                \n",
            " Conv2D)                        )                                                                 \n",
            "                                                                                                  \n",
            " activation_57 (Activation)     (None, 198, 198, 32  0           ['separable_conv2d_42[0][0]']    \n",
            "                                )                                                                 \n",
            "                                                                                                  \n",
            " max_pooling2d_42 (MaxPooling2D  (None, 66, 66, 32)  0           ['activation_57[0][0]']          \n",
            " )                                                                                                \n",
            "                                                                                                  \n",
            " batch_normalization_57 (BatchN  (None, 66, 66, 32)  128         ['max_pooling2d_42[0][0]']       \n",
            " ormalization)                                                                                    \n",
            "                                                                                                  \n",
            " separable_conv2d_43 (Separable  (None, 66, 66, 64)  2400        ['batch_normalization_57[0][0]'] \n",
            " Conv2D)                                                                                          \n",
            "                                                                                                  \n",
            " separable_conv2d_49 (Separable  (None, 198, 198, 32  155        ['input_4[0][0]']                \n",
            " Conv2D)                        )                                                                 \n",
            "                                                                                                  \n",
            " activation_58 (Activation)     (None, 66, 66, 64)   0           ['separable_conv2d_43[0][0]']    \n",
            "                                                                                                  \n",
            " activation_67 (Activation)     (None, 198, 198, 32  0           ['separable_conv2d_49[0][0]']    \n",
            "                                )                                                                 \n",
            "                                                                                                  \n",
            " max_pooling2d_43 (MaxPooling2D  (None, 33, 33, 64)  0           ['activation_58[0][0]']          \n",
            " )                                                                                                \n",
            "                                                                                                  \n",
            " max_pooling2d_49 (MaxPooling2D  (None, 66, 66, 32)  0           ['activation_67[0][0]']          \n",
            " )                                                                                                \n",
            "                                                                                                  \n",
            " batch_normalization_58 (BatchN  (None, 33, 33, 64)  256         ['max_pooling2d_43[0][0]']       \n",
            " ormalization)                                                                                    \n",
            "                                                                                                  \n",
            " batch_normalization_67 (BatchN  (None, 66, 66, 32)  128         ['max_pooling2d_49[0][0]']       \n",
            " ormalization)                                                                                    \n",
            "                                                                                                  \n",
            " separable_conv2d_44 (Separable  (None, 33, 33, 128)  8896       ['batch_normalization_58[0][0]'] \n",
            " Conv2D)                                                                                          \n",
            "                                                                                                  \n",
            " separable_conv2d_50 (Separable  (None, 66, 66, 64)  2400        ['batch_normalization_67[0][0]'] \n",
            " Conv2D)                                                                                          \n",
            "                                                                                                  \n",
            " activation_59 (Activation)     (None, 33, 33, 128)  0           ['separable_conv2d_44[0][0]']    \n",
            "                                                                                                  \n",
            " activation_68 (Activation)     (None, 66, 66, 64)   0           ['separable_conv2d_50[0][0]']    \n",
            "                                                                                                  \n",
            " max_pooling2d_44 (MaxPooling2D  (None, 16, 16, 128)  0          ['activation_59[0][0]']          \n",
            " )                                                                                                \n",
            "                                                                                                  \n",
            " max_pooling2d_50 (MaxPooling2D  (None, 33, 33, 64)  0           ['activation_68[0][0]']          \n",
            " )                                                                                                \n",
            "                                                                                                  \n",
            " batch_normalization_59 (BatchN  (None, 16, 16, 128)  512        ['max_pooling2d_44[0][0]']       \n",
            " ormalization)                                                                                    \n",
            "                                                                                                  \n",
            " batch_normalization_68 (BatchN  (None, 33, 33, 64)  256         ['max_pooling2d_50[0][0]']       \n",
            " ormalization)                                                                                    \n",
            "                                                                                                  \n",
            " separable_conv2d_45 (Separable  (None, 16, 16, 128)  17664      ['batch_normalization_59[0][0]'] \n",
            " Conv2D)                                                                                          \n",
            "                                                                                                  \n",
            " separable_conv2d_51 (Separable  (None, 33, 33, 128)  8896       ['batch_normalization_68[0][0]'] \n",
            " Conv2D)                                                                                          \n",
            "                                                                                                  \n",
            " activation_60 (Activation)     (None, 16, 16, 128)  0           ['separable_conv2d_45[0][0]']    \n",
            "                                                                                                  \n",
            " activation_69 (Activation)     (None, 33, 33, 128)  0           ['separable_conv2d_51[0][0]']    \n",
            "                                                                                                  \n",
            " max_pooling2d_45 (MaxPooling2D  (None, 8, 8, 128)   0           ['activation_60[0][0]']          \n",
            " )                                                                                                \n",
            "                                                                                                  \n",
            " max_pooling2d_51 (MaxPooling2D  (None, 16, 16, 128)  0          ['activation_69[0][0]']          \n",
            " )                                                                                                \n",
            "                                                                                                  \n",
            " spatial_dropout2d_24 (SpatialD  (None, 8, 8, 128)   0           ['max_pooling2d_45[0][0]']       \n",
            " ropout2D)                                                                                        \n",
            "                                                                                                  \n",
            " batch_normalization_69 (BatchN  (None, 16, 16, 128)  512        ['max_pooling2d_51[0][0]']       \n",
            " ormalization)                                                                                    \n",
            "                                                                                                  \n",
            " batch_normalization_60 (BatchN  (None, 8, 8, 128)   512         ['spatial_dropout2d_24[0][0]']   \n",
            " ormalization)                                                                                    \n",
            "                                                                                                  \n",
            " separable_conv2d_52 (Separable  (None, 16, 16, 128)  17664      ['batch_normalization_69[0][0]'] \n",
            " Conv2D)                                                                                          \n",
            "                                                                                                  \n",
            " separable_conv2d_46 (Separable  (None, 8, 8, 256)   34176       ['batch_normalization_60[0][0]'] \n",
            " Conv2D)                                                                                          \n",
            "                                                                                                  \n",
            " activation_70 (Activation)     (None, 16, 16, 128)  0           ['separable_conv2d_52[0][0]']    \n",
            "                                                                                                  \n",
            " activation_61 (Activation)     (None, 8, 8, 256)    0           ['separable_conv2d_46[0][0]']    \n",
            "                                                                                                  \n",
            " max_pooling2d_52 (MaxPooling2D  (None, 8, 8, 128)   0           ['activation_70[0][0]']          \n",
            " )                                                                                                \n",
            "                                                                                                  \n",
            " max_pooling2d_46 (MaxPooling2D  (None, 4, 4, 256)   0           ['activation_61[0][0]']          \n",
            " )                                                                                                \n",
            "                                                                                                  \n",
            " spatial_dropout2d_28 (SpatialD  (None, 8, 8, 128)   0           ['max_pooling2d_52[0][0]']       \n",
            " ropout2D)                                                                                        \n",
            "                                                                                                  \n",
            " spatial_dropout2d_25 (SpatialD  (None, 4, 4, 256)   0           ['max_pooling2d_46[0][0]']       \n",
            " ropout2D)                                                                                        \n",
            "                                                                                                  \n",
            " batch_normalization_70 (BatchN  (None, 8, 8, 128)   512         ['spatial_dropout2d_28[0][0]']   \n",
            " ormalization)                                                                                    \n",
            "                                                                                                  \n",
            " batch_normalization_61 (BatchN  (None, 4, 4, 256)   1024        ['spatial_dropout2d_25[0][0]']   \n",
            " ormalization)                                                                                    \n",
            "                                                                                                  \n",
            " separable_conv2d_53 (Separable  (None, 8, 8, 256)   34176       ['batch_normalization_70[0][0]'] \n",
            " Conv2D)                                                                                          \n",
            "                                                                                                  \n",
            " separable_conv2d_47 (Separable  (None, 4, 4, 256)   68096       ['batch_normalization_61[0][0]'] \n",
            " Conv2D)                                                                                          \n",
            "                                                                                                  \n",
            " activation_71 (Activation)     (None, 8, 8, 256)    0           ['separable_conv2d_53[0][0]']    \n",
            "                                                                                                  \n",
            " activation_62 (Activation)     (None, 4, 4, 256)    0           ['separable_conv2d_47[0][0]']    \n",
            "                                                                                                  \n",
            " max_pooling2d_53 (MaxPooling2D  (None, 4, 4, 256)   0           ['activation_71[0][0]']          \n",
            " )                                                                                                \n",
            "                                                                                                  \n",
            " max_pooling2d_47 (MaxPooling2D  (None, 2, 2, 256)   0           ['activation_62[0][0]']          \n",
            " )                                                                                                \n",
            "                                                                                                  \n",
            " spatial_dropout2d_29 (SpatialD  (None, 4, 4, 256)   0           ['max_pooling2d_53[0][0]']       \n",
            " ropout2D)                                                                                        \n",
            "                                                                                                  \n",
            " spatial_dropout2d_26 (SpatialD  (None, 2, 2, 256)   0           ['max_pooling2d_47[0][0]']       \n",
            " ropout2D)                                                                                        \n",
            "                                                                                                  \n",
            " batch_normalization_71 (BatchN  (None, 4, 4, 256)   1024        ['spatial_dropout2d_29[0][0]']   \n",
            " ormalization)                                                                                    \n",
            "                                                                                                  \n",
            " batch_normalization_62 (BatchN  (None, 2, 2, 256)   1024        ['spatial_dropout2d_26[0][0]']   \n",
            " ormalization)                                                                                    \n",
            "                                                                                                  \n",
            " separable_conv2d_54 (Separable  (None, 4, 4, 256)   68096       ['batch_normalization_71[0][0]'] \n",
            " Conv2D)                                                                                          \n",
            "                                                                                                  \n",
            " separable_conv2d_48 (Separable  (None, 2, 2, 256)   68096       ['batch_normalization_62[0][0]'] \n",
            " Conv2D)                                                                                          \n",
            "                                                                                                  \n",
            " activation_72 (Activation)     (None, 4, 4, 256)    0           ['separable_conv2d_54[0][0]']    \n",
            "                                                                                                  \n",
            " activation_63 (Activation)     (None, 2, 2, 256)    0           ['separable_conv2d_48[0][0]']    \n",
            "                                                                                                  \n",
            " max_pooling2d_54 (MaxPooling2D  (None, 2, 2, 256)   0           ['activation_72[0][0]']          \n",
            " )                                                                                                \n",
            "                                                                                                  \n",
            " max_pooling2d_48 (MaxPooling2D  (None, 1, 1, 256)   0           ['activation_63[0][0]']          \n",
            " )                                                                                                \n",
            "                                                                                                  \n",
            " spatial_dropout2d_30 (SpatialD  (None, 2, 2, 256)   0           ['max_pooling2d_54[0][0]']       \n",
            " ropout2D)                                                                                        \n",
            "                                                                                                  \n",
            " spatial_dropout2d_27 (SpatialD  (None, 1, 1, 256)   0           ['max_pooling2d_48[0][0]']       \n",
            " ropout2D)                                                                                        \n",
            "                                                                                                  \n",
            " batch_normalization_72 (BatchN  (None, 2, 2, 256)   1024        ['spatial_dropout2d_30[0][0]']   \n",
            " ormalization)                                                                                    \n",
            "                                                                                                  \n",
            " batch_normalization_63 (BatchN  (None, 1, 1, 256)   1024        ['spatial_dropout2d_27[0][0]']   \n",
            " ormalization)                                                                                    \n",
            "                                                                                                  \n",
            " separable_conv2d_55 (Separable  (None, 2, 2, 256)   68096       ['batch_normalization_72[0][0]'] \n",
            " Conv2D)                                                                                          \n",
            "                                                                                                  \n",
            " flatten_6 (Flatten)            (None, 256)          0           ['batch_normalization_63[0][0]'] \n",
            "                                                                                                  \n",
            " activation_73 (Activation)     (None, 2, 2, 256)    0           ['separable_conv2d_55[0][0]']    \n",
            "                                                                                                  \n",
            " dense_21 (Dense)               (None, 128)          32896       ['flatten_6[0][0]']              \n",
            "                                                                                                  \n",
            " max_pooling2d_55 (MaxPooling2D  (None, 1, 1, 256)   0           ['activation_73[0][0]']          \n",
            " )                                                                                                \n",
            "                                                                                                  \n",
            " activation_64 (Activation)     (None, 128)          0           ['dense_21[0][0]']               \n",
            "                                                                                                  \n",
            " spatial_dropout2d_31 (SpatialD  (None, 1, 1, 256)   0           ['max_pooling2d_55[0][0]']       \n",
            " ropout2D)                                                                                        \n",
            "                                                                                                  \n",
            " dropout_15 (Dropout)           (None, 128)          0           ['activation_64[0][0]']          \n",
            "                                                                                                  \n",
            " batch_normalization_73 (BatchN  (None, 1, 1, 256)   1024        ['spatial_dropout2d_31[0][0]']   \n",
            " ormalization)                                                                                    \n",
            "                                                                                                  \n",
            " batch_normalization_64 (BatchN  (None, 128)         512         ['dropout_15[0][0]']             \n",
            " ormalization)                                                                                    \n",
            "                                                                                                  \n",
            " flatten_7 (Flatten)            (None, 256)          0           ['batch_normalization_73[0][0]'] \n",
            "                                                                                                  \n",
            " dense_22 (Dense)               (None, 64)           8256        ['batch_normalization_64[0][0]'] \n",
            "                                                                                                  \n",
            " dense_25 (Dense)               (None, 64)           16448       ['flatten_7[0][0]']              \n",
            "                                                                                                  \n",
            " activation_65 (Activation)     (None, 64)           0           ['dense_22[0][0]']               \n",
            "                                                                                                  \n",
            " activation_74 (Activation)     (None, 64)           0           ['dense_25[0][0]']               \n",
            "                                                                                                  \n",
            " dropout_16 (Dropout)           (None, 64)           0           ['activation_65[0][0]']          \n",
            "                                                                                                  \n",
            " dropout_18 (Dropout)           (None, 64)           0           ['activation_74[0][0]']          \n",
            "                                                                                                  \n",
            " batch_normalization_65 (BatchN  (None, 64)          256         ['dropout_16[0][0]']             \n",
            " ormalization)                                                                                    \n",
            "                                                                                                  \n",
            " batch_normalization_74 (BatchN  (None, 64)          256         ['dropout_18[0][0]']             \n",
            " ormalization)                                                                                    \n",
            "                                                                                                  \n",
            " dense_23 (Dense)               (None, 32)           2080        ['batch_normalization_65[0][0]'] \n",
            "                                                                                                  \n",
            " dense_26 (Dense)               (None, 32)           2080        ['batch_normalization_74[0][0]'] \n",
            "                                                                                                  \n",
            " activation_66 (Activation)     (None, 32)           0           ['dense_23[0][0]']               \n",
            "                                                                                                  \n",
            " activation_75 (Activation)     (None, 32)           0           ['dense_26[0][0]']               \n",
            "                                                                                                  \n",
            " dropout_17 (Dropout)           (None, 32)           0           ['activation_66[0][0]']          \n",
            "                                                                                                  \n",
            " dropout_19 (Dropout)           (None, 32)           0           ['activation_75[0][0]']          \n",
            "                                                                                                  \n",
            " batch_normalization_66 (BatchN  (None, 32)          128         ['dropout_17[0][0]']             \n",
            " ormalization)                                                                                    \n",
            "                                                                                                  \n",
            " batch_normalization_75 (BatchN  (None, 32)          128         ['dropout_19[0][0]']             \n",
            " ormalization)                                                                                    \n",
            "                                                                                                  \n",
            " dense_24 (Dense)               (None, 5)            165         ['batch_normalization_66[0][0]'] \n",
            "                                                                                                  \n",
            " dense_27 (Dense)               (None, 2)            66          ['batch_normalization_75[0][0]'] \n",
            "                                                                                                  \n",
            " age_output (Activation)        (None, 5)            0           ['dense_24[0][0]']               \n",
            "                                                                                                  \n",
            " gender_output (Activation)     (None, 2)            0           ['dense_27[0][0]']               \n",
            "                                                                                                  \n",
            "==================================================================================================\n",
            "Total params: 471,197\n",
            "Trainable params: 466,077\n",
            "Non-trainable params: 5,120\n",
            "__________________________________________________________________________________________________\n"
          ]
        }
      ],
      "source": [
        "model.summary()"
      ]
    },
    {
      "cell_type": "markdown",
      "source": [
        "**LearningRateSchedular Callback** - The LearningRateScheduler callback allows us to define a function to call that takes the epoch number as an argument and returns the learning rate to use in optimizer. When used, the learning rate specified by optimizer is ignored."
      ],
      "metadata": {
        "id": "SXkib7uom2sA"
      }
    },
    {
      "cell_type": "code",
      "execution_count": 143,
      "metadata": {
        "colab": {
          "base_uri": "https://localhost:8080/"
        },
        "id": "OIQZyf8eE7Mi",
        "outputId": "d5996b69-80c8-4d95-cd12-5dfaded1840c"
      },
      "outputs": [
        {
          "output_type": "stream",
          "name": "stderr",
          "text": [
            "/usr/local/lib/python3.7/dist-packages/keras/optimizer_v2/adam.py:105: UserWarning: The `lr` argument is deprecated, use `learning_rate` instead.\n",
            "  super(Adam, self).__init__(name, **kwargs)\n"
          ]
        }
      ],
      "source": [
        "# A callback is a set of functions to be applied at given stages of the training procedure.\n",
        "\n",
        "import math\n",
        "\n",
        "from tensorflow.keras.optimizers import Adam\n",
        "from keras.callbacks import ModelCheckpoint\n",
        "from keras.callbacks import LearningRateScheduler\n",
        "\n",
        "\n",
        "# LRS in Keras reduces the learning rate by a certain factor after certain no of epochs\n",
        "\n",
        "def step_decay(epoch):\n",
        "\tinitial_lrate = 0.008\n",
        "\tdrop = 0.5\n",
        "\tepochs_drop = 5.0\n",
        "\tlrate = initial_lrate * math.pow(drop, math.floor((1+epoch)/epochs_drop))\n",
        "\treturn lrate      \n",
        "\n",
        "opt = Adam(lr=0.0)                                     # 0.0 here signifies this is not to be used\n",
        "lrate = LearningRateScheduler(step_decay)\n",
        "\n",
        "model.compile(optimizer=opt, \n",
        "              loss={\n",
        "                  'age_output': 'categorical_crossentropy', \n",
        "                  'gender_output': 'categorical_crossentropy'},\n",
        "              metrics={\n",
        "                  'age_output': 'accuracy', \n",
        "                  'gender_output': 'accuracy'})\n",
        "\n",
        "\n",
        "callbacks_list = [lrate]\n",
        "\n",
        "# It is this callback that allows a function to invoke during program execution."
      ]
    },
    {
      "cell_type": "markdown",
      "metadata": {
        "id": "yngXGr-2krQA"
      },
      "source": [
        "## **Handling imbalance class in Keras using param called `class_weight`**\n",
        "\n",
        "Class weights, ensure that the unevenness in data distribution is sorted out.\n",
        "Basically, **classes with less numbers are given more weight**, so that model doesn't get biased towards the more prevalent classes."
      ]
    },
    {
      "cell_type": "code",
      "execution_count": 144,
      "metadata": {
        "id": "TYUF1n3nyfj7"
      },
      "outputs": [],
      "source": [
        "from sklearn.utils import class_weight\n",
        "class_weight = class_weight.compute_class_weight('balanced' ,classes=np.array([0,1,2,3,4]) ,y=np.array(df['age']))\n",
        "\n",
        "\n",
        "class_weight1 = {'age_output': class_weight}"
      ]
    },
    {
      "cell_type": "markdown",
      "source": [
        "## **Since, train_idx is too large to fit inside RAM at once, we generate batches of size 32/64 from it (called train_gen))**"
      ],
      "metadata": {
        "id": "vNM3NiE_m6ps"
      }
    },
    {
      "cell_type": "code",
      "execution_count": 145,
      "metadata": {
        "colab": {
          "base_uri": "https://localhost:8080/"
        },
        "id": "xQLyl11vYw1r",
        "outputId": "fc5e0c65-f86a-4a7b-ab2e-da931c009972"
      },
      "outputs": [
        {
          "output_type": "stream",
          "name": "stderr",
          "text": [
            "2022/05/23 01:54:59 INFO mlflow.utils.autologging_utils: Created MLflow autologging run with ID '4a8b2c6a98f5428ca9f1f2143a623772', which will track hyperparameters, performance metrics, model artifacts, and lineage information for the current tensorflow workflow\n"
          ]
        },
        {
          "output_type": "stream",
          "name": "stdout",
          "text": [
            "Epoch 1/22\n",
            "215/215 [==============================] - 51s 217ms/step - loss: 2.6557 - age_output_loss: 1.2334 - gender_output_loss: 0.6429 - age_output_accuracy: 0.4823 - gender_output_accuracy: 0.6480 - val_loss: 2.2125 - val_age_output_loss: 1.1637 - val_gender_output_loss: 0.8350 - val_age_output_accuracy: 0.4876 - val_gender_output_accuracy: 0.5177 - lr: 0.0080\n",
            "Epoch 2/22\n",
            "215/215 [==============================] - 43s 201ms/step - loss: 1.8054 - age_output_loss: 1.1014 - gender_output_loss: 0.5123 - age_output_accuracy: 0.5212 - gender_output_accuracy: 0.7474 - val_loss: 2.1022 - val_age_output_loss: 1.4001 - val_gender_output_loss: 0.4735 - val_age_output_accuracy: 0.2960 - val_gender_output_accuracy: 0.7801 - lr: 0.0080\n",
            "Epoch 3/22\n",
            "215/215 [==============================] - 43s 202ms/step - loss: 1.6169 - age_output_loss: 1.0018 - gender_output_loss: 0.4138 - age_output_accuracy: 0.5814 - gender_output_accuracy: 0.8151 - val_loss: 3.0756 - val_age_output_loss: 2.3680 - val_gender_output_loss: 0.5222 - val_age_output_accuracy: 0.4623 - val_gender_output_accuracy: 0.8302 - lr: 0.0080\n",
            "Epoch 4/22\n",
            "215/215 [==============================] - 43s 201ms/step - loss: 1.4569 - age_output_loss: 0.8949 - gender_output_loss: 0.3652 - age_output_accuracy: 0.6253 - gender_output_accuracy: 0.8350 - val_loss: 5.6994 - val_age_output_loss: 5.1162 - val_gender_output_loss: 0.3896 - val_age_output_accuracy: 0.0867 - val_gender_output_accuracy: 0.8267 - lr: 0.0080\n",
            "Epoch 5/22\n",
            "215/215 [==============================] - 43s 200ms/step - loss: 1.2344 - age_output_loss: 0.8092 - gender_output_loss: 0.2995 - age_output_accuracy: 0.6661 - gender_output_accuracy: 0.8708 - val_loss: 2.3681 - val_age_output_loss: 1.9579 - val_gender_output_loss: 0.3030 - val_age_output_accuracy: 0.2111 - val_gender_output_accuracy: 0.8697 - lr: 0.0040\n",
            "Epoch 6/22\n",
            "215/215 [==============================] - 43s 200ms/step - loss: 1.1601 - age_output_loss: 0.7682 - gender_output_loss: 0.2765 - age_output_accuracy: 0.6826 - gender_output_accuracy: 0.8791 - val_loss: 1.7932 - val_age_output_loss: 1.3550 - val_gender_output_loss: 0.3164 - val_age_output_accuracy: 0.3892 - val_gender_output_accuracy: 0.8638 - lr: 0.0040\n",
            "Epoch 7/22\n",
            "215/215 [==============================] - 43s 200ms/step - loss: 1.1147 - age_output_loss: 0.7360 - gender_output_loss: 0.2611 - age_output_accuracy: 0.6981 - gender_output_accuracy: 0.8836 - val_loss: 1.8574 - val_age_output_loss: 1.4367 - val_gender_output_loss: 0.2844 - val_age_output_accuracy: 0.4570 - val_gender_output_accuracy: 0.8803 - lr: 0.0040\n",
            "Epoch 8/22\n",
            "215/215 [==============================] - 43s 199ms/step - loss: 1.0711 - age_output_loss: 0.7116 - gender_output_loss: 0.2449 - age_output_accuracy: 0.7065 - gender_output_accuracy: 0.8961 - val_loss: 1.2282 - val_age_output_loss: 0.8000 - val_gender_output_loss: 0.3236 - val_age_output_accuracy: 0.6822 - val_gender_output_accuracy: 0.8709 - lr: 0.0040\n",
            "Epoch 9/22\n",
            "215/215 [==============================] - 43s 200ms/step - loss: 1.0461 - age_output_loss: 0.6951 - gender_output_loss: 0.2349 - age_output_accuracy: 0.7090 - gender_output_accuracy: 0.9006 - val_loss: 1.1239 - val_age_output_loss: 0.7259 - val_gender_output_loss: 0.2862 - val_age_output_accuracy: 0.6969 - val_gender_output_accuracy: 0.8850 - lr: 0.0040\n",
            "Epoch 10/22\n",
            "215/215 [==============================] - 43s 199ms/step - loss: 0.9080 - age_output_loss: 0.6376 - gender_output_loss: 0.1965 - age_output_accuracy: 0.7365 - gender_output_accuracy: 0.9209 - val_loss: 1.2369 - val_age_output_loss: 0.8042 - val_gender_output_loss: 0.3640 - val_age_output_accuracy: 0.6663 - val_gender_output_accuracy: 0.8603 - lr: 0.0020\n",
            "Epoch 11/22\n",
            "215/215 [==============================] - 43s 200ms/step - loss: 0.8520 - age_output_loss: 0.6024 - gender_output_loss: 0.1734 - age_output_accuracy: 0.7509 - gender_output_accuracy: 0.9273 - val_loss: 1.1147 - val_age_output_loss: 0.6778 - val_gender_output_loss: 0.3715 - val_age_output_accuracy: 0.7211 - val_gender_output_accuracy: 0.8597 - lr: 0.0020\n",
            "Epoch 12/22\n",
            "215/215 [==============================] - 43s 200ms/step - loss: 0.8146 - age_output_loss: 0.5844 - gender_output_loss: 0.1605 - age_output_accuracy: 0.7608 - gender_output_accuracy: 0.9353 - val_loss: 1.1324 - val_age_output_loss: 0.6920 - val_gender_output_loss: 0.3698 - val_age_output_accuracy: 0.7111 - val_gender_output_accuracy: 0.8679 - lr: 0.0020\n",
            "Epoch 13/22\n",
            "215/215 [==============================] - 43s 200ms/step - loss: 0.7845 - age_output_loss: 0.5515 - gender_output_loss: 0.1537 - age_output_accuracy: 0.7712 - gender_output_accuracy: 0.9397 - val_loss: 1.1178 - val_age_output_loss: 0.6960 - val_gender_output_loss: 0.3544 - val_age_output_accuracy: 0.7152 - val_gender_output_accuracy: 0.8691 - lr: 0.0020\n",
            "Epoch 14/22\n",
            "215/215 [==============================] - 43s 200ms/step - loss: 0.7585 - age_output_loss: 0.5392 - gender_output_loss: 0.1427 - age_output_accuracy: 0.7754 - gender_output_accuracy: 0.9436 - val_loss: 1.1474 - val_age_output_loss: 0.6749 - val_gender_output_loss: 0.3971 - val_age_output_accuracy: 0.7246 - val_gender_output_accuracy: 0.8526 - lr: 0.0020\n",
            "Epoch 15/22\n",
            "215/215 [==============================] - 43s 201ms/step - loss: 0.6402 - age_output_loss: 0.4798 - gender_output_loss: 0.1098 - age_output_accuracy: 0.8055 - gender_output_accuracy: 0.9587 - val_loss: 1.1928 - val_age_output_loss: 0.7480 - val_gender_output_loss: 0.4016 - val_age_output_accuracy: 0.7099 - val_gender_output_accuracy: 0.8732 - lr: 0.0010\n",
            "Epoch 16/22\n",
            "215/215 [==============================] - 43s 200ms/step - loss: 0.5891 - age_output_loss: 0.4405 - gender_output_loss: 0.1033 - age_output_accuracy: 0.8240 - gender_output_accuracy: 0.9624 - val_loss: 1.1831 - val_age_output_loss: 0.7379 - val_gender_output_loss: 0.3992 - val_age_output_accuracy: 0.7117 - val_gender_output_accuracy: 0.8791 - lr: 0.0010\n",
            "Epoch 17/22\n",
            "215/215 [==============================] - 43s 200ms/step - loss: 0.5507 - age_output_loss: 0.4168 - gender_output_loss: 0.0865 - age_output_accuracy: 0.8355 - gender_output_accuracy: 0.9674 - val_loss: 1.3046 - val_age_output_loss: 0.8262 - val_gender_output_loss: 0.4248 - val_age_output_accuracy: 0.6946 - val_gender_output_accuracy: 0.8762 - lr: 0.0010\n",
            "Epoch 18/22\n",
            "215/215 [==============================] - 43s 200ms/step - loss: 0.5207 - age_output_loss: 0.3898 - gender_output_loss: 0.0820 - age_output_accuracy: 0.8487 - gender_output_accuracy: 0.9712 - val_loss: 1.4060 - val_age_output_loss: 0.9071 - val_gender_output_loss: 0.4534 - val_age_output_accuracy: 0.6792 - val_gender_output_accuracy: 0.8779 - lr: 0.0010\n",
            "Epoch 19/22\n",
            "215/215 [==============================] - 43s 201ms/step - loss: 0.4970 - age_output_loss: 0.3706 - gender_output_loss: 0.0795 - age_output_accuracy: 0.8565 - gender_output_accuracy: 0.9721 - val_loss: 1.2509 - val_age_output_loss: 0.7683 - val_gender_output_loss: 0.4400 - val_age_output_accuracy: 0.7300 - val_gender_output_accuracy: 0.8868 - lr: 0.0010\n",
            "Epoch 20/22\n",
            "215/215 [==============================] - 43s 201ms/step - loss: 0.4343 - age_output_loss: 0.3348 - gender_output_loss: 0.0648 - age_output_accuracy: 0.8680 - gender_output_accuracy: 0.9775 - val_loss: 1.2850 - val_age_output_loss: 0.7787 - val_gender_output_loss: 0.4778 - val_age_output_accuracy: 0.7353 - val_gender_output_accuracy: 0.8750 - lr: 5.0000e-04\n",
            "Epoch 21/22\n",
            "215/215 [==============================] - 43s 201ms/step - loss: 0.3716 - age_output_loss: 0.2885 - gender_output_loss: 0.0534 - age_output_accuracy: 0.8932 - gender_output_accuracy: 0.9818 - val_loss: 1.3770 - val_age_output_loss: 0.8330 - val_gender_output_loss: 0.5164 - val_age_output_accuracy: 0.7311 - val_gender_output_accuracy: 0.8768 - lr: 5.0000e-04\n",
            "Epoch 22/22\n",
            "215/215 [==============================] - 48s 222ms/step - loss: 0.3552 - age_output_loss: 0.2773 - gender_output_loss: 0.0478 - age_output_accuracy: 0.8987 - gender_output_accuracy: 0.9850 - val_loss: 1.4453 - val_age_output_loss: 0.8709 - val_gender_output_loss: 0.5443 - val_age_output_accuracy: 0.7329 - val_gender_output_accuracy: 0.8768 - lr: 5.0000e-04\n",
            "INFO:tensorflow:Assets written to: /tmp/tmph0yogfk4/model/data/model/assets\n"
          ]
        },
        {
          "output_type": "stream",
          "name": "stderr",
          "text": [
            "2022/05/23 02:11:07 WARNING mlflow.utils.requirements_utils: Found tensorflow version (2.8.0+zzzcolab20220506162203) contains a local version label (+zzzcolab20220506162203). MLflow logged a pip requirement for this package as 'tensorflow==2.8.0' without the local version label to make it installable from PyPI. To specify pip requirements containing local version labels, please use `conda_env` or `pip_requirements`.\n",
            "2022/05/23 02:11:15 WARNING mlflow.utils.requirements_utils: Found tensorflow version (2.8.0+zzzcolab20220506162203) contains a local version label (+zzzcolab20220506162203). MLflow logged a pip requirement for this package as 'tensorflow==2.8.0' without the local version label to make it installable from PyPI. To specify pip requirements containing local version labels, please use `conda_env` or `pip_requirements`.\n",
            "2022/05/23 02:11:15 WARNING mlflow.utils.requirements_utils: Found jaxlib version (0.3.7+cuda11.cudnn805) contains a local version label (+cuda11.cudnn805). MLflow logged a pip requirement for this package as 'jaxlib==0.3.7' without the local version label to make it installable from PyPI. To specify pip requirements containing local version labels, please use `conda_env` or `pip_requirements`.\n"
          ]
        }
      ],
      "source": [
        "train_gen = generate_images(train_idx, is_training=True, batch_size=32)\n",
        "\n",
        "\n",
        "valid_gen = generate_images(val_idx, is_training=True, batch_size=32)\n",
        "\n",
        "\n",
        "history = model.fit(train_gen, steps_per_epoch = len(train_idx)//32, epochs=22  , callbacks=callbacks_list,\n",
        "                     validation_data=valid_gen, validation_steps=len(val_idx)//32)\n",
        "\n"
      ]
    },
    {
      "cell_type": "markdown",
      "metadata": {
        "id": "qq3MtSrR7DQH"
      },
      "source": [
        "## **Experimenting with learning rate parameter**"
      ]
    },
    {
      "cell_type": "code",
      "execution_count": 146,
      "metadata": {
        "colab": {
          "base_uri": "https://localhost:8080/"
        },
        "id": "soCfKO0kBtHZ",
        "outputId": "49dae4fe-1ed5-4890-f2ed-6c8c4d93eefa"
      },
      "outputs": [
        {
          "output_type": "stream",
          "name": "stderr",
          "text": [
            "/usr/local/lib/python3.7/dist-packages/keras/optimizer_v2/adam.py:105: UserWarning: The `lr` argument is deprecated, use `learning_rate` instead.\n",
            "  super(Adam, self).__init__(name, **kwargs)\n",
            "2022/05/23 02:11:15 INFO mlflow.utils.autologging_utils: Created MLflow autologging run with ID '10ae7528a2654a0488feb555d0eb5432', which will track hyperparameters, performance metrics, model artifacts, and lineage information for the current tensorflow workflow\n"
          ]
        },
        {
          "output_type": "stream",
          "name": "stdout",
          "text": [
            "Epoch 1/22\n",
            "  6/215 [..............................] - ETA: 36s - loss: 0.4412 - age_output_loss: 0.3634 - gender_output_loss: 0.0444 - age_output_accuracy: 0.8594 - gender_output_accuracy: 0.9844WARNING:tensorflow:Callback method `on_train_batch_end` is slow compared to the batch time (batch time: 0.0281s vs `on_train_batch_end` time: 0.1473s). Check your callbacks.\n",
            "215/215 [==============================] - 43s 201ms/step - loss: 0.5598 - age_output_loss: 0.3854 - gender_output_loss: 0.0987 - age_output_accuracy: 0.8455 - gender_output_accuracy: 0.9660 - val_loss: 1.3833 - val_age_output_loss: 0.8805 - val_gender_output_loss: 0.4263 - val_age_output_accuracy: 0.7022 - val_gender_output_accuracy: 0.8656 - lr: 0.0020\n",
            "Epoch 2/22\n",
            "215/215 [==============================] - 43s 200ms/step - loss: 0.5613 - age_output_loss: 0.3957 - gender_output_loss: 0.0909 - age_output_accuracy: 0.8411 - gender_output_accuracy: 0.9677 - val_loss: 1.3886 - val_age_output_loss: 0.8322 - val_gender_output_loss: 0.4859 - val_age_output_accuracy: 0.7087 - val_gender_output_accuracy: 0.8644 - lr: 0.0020\n",
            "Epoch 3/22\n",
            "215/215 [==============================] - 43s 200ms/step - loss: 0.5582 - age_output_loss: 0.3798 - gender_output_loss: 0.0977 - age_output_accuracy: 0.8531 - gender_output_accuracy: 0.9658 - val_loss: 1.5596 - val_age_output_loss: 1.0824 - val_gender_output_loss: 0.4042 - val_age_output_accuracy: 0.6232 - val_gender_output_accuracy: 0.8779 - lr: 0.0020\n",
            "Epoch 4/22\n",
            "215/215 [==============================] - 43s 200ms/step - loss: 0.5142 - age_output_loss: 0.3600 - gender_output_loss: 0.0795 - age_output_accuracy: 0.8642 - gender_output_accuracy: 0.9699 - val_loss: 1.7569 - val_age_output_loss: 1.2460 - val_gender_output_loss: 0.4435 - val_age_output_accuracy: 0.5749 - val_gender_output_accuracy: 0.8803 - lr: 0.0020\n",
            "Epoch 5/22\n",
            "215/215 [==============================] - 43s 201ms/step - loss: 0.5252 - age_output_loss: 0.3554 - gender_output_loss: 0.0892 - age_output_accuracy: 0.8682 - gender_output_accuracy: 0.9663 - val_loss: 2.1077 - val_age_output_loss: 1.5432 - val_gender_output_loss: 0.4730 - val_age_output_accuracy: 0.5395 - val_gender_output_accuracy: 0.8721 - lr: 0.0020\n",
            "Epoch 6/22\n",
            "215/215 [==============================] - 43s 201ms/step - loss: 0.5048 - age_output_loss: 0.3472 - gender_output_loss: 0.0827 - age_output_accuracy: 0.8666 - gender_output_accuracy: 0.9702 - val_loss: 1.5293 - val_age_output_loss: 1.0134 - val_gender_output_loss: 0.4445 - val_age_output_accuracy: 0.6397 - val_gender_output_accuracy: 0.8732 - lr: 0.0020\n",
            "Epoch 7/22\n",
            "215/215 [==============================] - 43s 200ms/step - loss: 0.3756 - age_output_loss: 0.2668 - gender_output_loss: 0.0584 - age_output_accuracy: 0.9047 - gender_output_accuracy: 0.9799 - val_loss: 1.4635 - val_age_output_loss: 0.9076 - val_gender_output_loss: 0.5104 - val_age_output_accuracy: 0.7111 - val_gender_output_accuracy: 0.8709 - lr: 0.0010\n",
            "Epoch 8/22\n",
            "215/215 [==============================] - 43s 199ms/step - loss: 0.3221 - age_output_loss: 0.2417 - gender_output_loss: 0.0322 - age_output_accuracy: 0.9115 - gender_output_accuracy: 0.9891 - val_loss: 1.6025 - val_age_output_loss: 0.9753 - val_gender_output_loss: 0.5785 - val_age_output_accuracy: 0.7182 - val_gender_output_accuracy: 0.8797 - lr: 0.0010\n",
            "Epoch 9/22\n",
            "215/215 [==============================] - 48s 221ms/step - loss: 0.3130 - age_output_loss: 0.2327 - gender_output_loss: 0.0333 - age_output_accuracy: 0.9211 - gender_output_accuracy: 0.9892 - val_loss: 1.6539 - val_age_output_loss: 1.0203 - val_gender_output_loss: 0.5901 - val_age_output_accuracy: 0.7188 - val_gender_output_accuracy: 0.8827 - lr: 0.0010\n",
            "Epoch 10/22\n",
            "215/215 [==============================] - 43s 200ms/step - loss: 0.2835 - age_output_loss: 0.1988 - gender_output_loss: 0.0410 - age_output_accuracy: 0.9324 - gender_output_accuracy: 0.9882 - val_loss: 1.6423 - val_age_output_loss: 1.0023 - val_gender_output_loss: 0.5987 - val_age_output_accuracy: 0.7258 - val_gender_output_accuracy: 0.8797 - lr: 0.0010\n",
            "Epoch 11/22\n",
            "215/215 [==============================] - 43s 199ms/step - loss: 0.2846 - age_output_loss: 0.2057 - gender_output_loss: 0.0336 - age_output_accuracy: 0.9298 - gender_output_accuracy: 0.9882 - val_loss: 1.7063 - val_age_output_loss: 1.0724 - val_gender_output_loss: 0.5900 - val_age_output_accuracy: 0.7111 - val_gender_output_accuracy: 0.8726 - lr: 0.0010\n",
            "Epoch 12/22\n",
            "215/215 [==============================] - 43s 201ms/step - loss: 0.2652 - age_output_loss: 0.1838 - gender_output_loss: 0.0321 - age_output_accuracy: 0.9355 - gender_output_accuracy: 0.9906 - val_loss: 1.7742 - val_age_output_loss: 1.0638 - val_gender_output_loss: 0.6637 - val_age_output_accuracy: 0.7235 - val_gender_output_accuracy: 0.8685 - lr: 0.0010\n",
            "Epoch 13/22\n",
            "215/215 [==============================] - 43s 199ms/step - loss: 0.2604 - age_output_loss: 0.1742 - gender_output_loss: 0.0350 - age_output_accuracy: 0.9413 - gender_output_accuracy: 0.9891 - val_loss: 1.6990 - val_age_output_loss: 1.0284 - val_gender_output_loss: 0.6301 - val_age_output_accuracy: 0.7235 - val_gender_output_accuracy: 0.8726 - lr: 0.0010\n",
            "Epoch 14/22\n",
            "215/215 [==============================] - 43s 200ms/step - loss: 0.2124 - age_output_loss: 0.1571 - gender_output_loss: 0.0223 - age_output_accuracy: 0.9477 - gender_output_accuracy: 0.9924 - val_loss: 1.7312 - val_age_output_loss: 1.0753 - val_gender_output_loss: 0.6252 - val_age_output_accuracy: 0.7252 - val_gender_output_accuracy: 0.8715 - lr: 5.0000e-04\n",
            "Epoch 15/22\n",
            "215/215 [==============================] - 43s 200ms/step - loss: 0.1752 - age_output_loss: 0.1310 - gender_output_loss: 0.0149 - age_output_accuracy: 0.9590 - gender_output_accuracy: 0.9965 - val_loss: 1.7947 - val_age_output_loss: 1.0954 - val_gender_output_loss: 0.6745 - val_age_output_accuracy: 0.7217 - val_gender_output_accuracy: 0.8779 - lr: 5.0000e-04\n",
            "Epoch 16/22\n",
            "215/215 [==============================] - 43s 200ms/step - loss: 0.1651 - age_output_loss: 0.1231 - gender_output_loss: 0.0139 - age_output_accuracy: 0.9602 - gender_output_accuracy: 0.9961 - val_loss: 1.9626 - val_age_output_loss: 1.2004 - val_gender_output_loss: 0.7357 - val_age_output_accuracy: 0.7170 - val_gender_output_accuracy: 0.8762 - lr: 5.0000e-04\n",
            "Epoch 17/22\n",
            "215/215 [==============================] - 43s 200ms/step - loss: 0.1593 - age_output_loss: 0.1162 - gender_output_loss: 0.0164 - age_output_accuracy: 0.9660 - gender_output_accuracy: 0.9955 - val_loss: 1.9512 - val_age_output_loss: 1.2275 - val_gender_output_loss: 0.6959 - val_age_output_accuracy: 0.7134 - val_gender_output_accuracy: 0.8779 - lr: 5.0000e-04\n",
            "Epoch 18/22\n",
            "215/215 [==============================] - 43s 200ms/step - loss: 0.1547 - age_output_loss: 0.1154 - gender_output_loss: 0.0110 - age_output_accuracy: 0.9640 - gender_output_accuracy: 0.9967 - val_loss: 2.0157 - val_age_output_loss: 1.2426 - val_gender_output_loss: 0.7453 - val_age_output_accuracy: 0.7270 - val_gender_output_accuracy: 0.8715 - lr: 5.0000e-04\n",
            "Epoch 19/22\n",
            "215/215 [==============================] - 43s 200ms/step - loss: 0.1432 - age_output_loss: 0.1045 - gender_output_loss: 0.0110 - age_output_accuracy: 0.9680 - gender_output_accuracy: 0.9974 - val_loss: 1.9856 - val_age_output_loss: 1.2273 - val_gender_output_loss: 0.7328 - val_age_output_accuracy: 0.7217 - val_gender_output_accuracy: 0.8756 - lr: 5.0000e-04\n",
            "Epoch 20/22\n",
            "215/215 [==============================] - 43s 199ms/step - loss: 0.1418 - age_output_loss: 0.1058 - gender_output_loss: 0.0095 - age_output_accuracy: 0.9669 - gender_output_accuracy: 0.9974 - val_loss: 2.1050 - val_age_output_loss: 1.2676 - val_gender_output_loss: 0.8073 - val_age_output_accuracy: 0.7252 - val_gender_output_accuracy: 0.8750 - lr: 5.0000e-04\n",
            "Epoch 21/22\n",
            "215/215 [==============================] - 43s 200ms/step - loss: 0.1332 - age_output_loss: 0.0933 - gender_output_loss: 0.0144 - age_output_accuracy: 0.9714 - gender_output_accuracy: 0.9964 - val_loss: 2.0232 - val_age_output_loss: 1.2345 - val_gender_output_loss: 0.7675 - val_age_output_accuracy: 0.7252 - val_gender_output_accuracy: 0.8762 - lr: 2.5000e-04\n",
            "Epoch 22/22\n",
            "215/215 [==============================] - 43s 200ms/step - loss: 0.1166 - age_output_loss: 0.0898 - gender_output_loss: 0.0067 - age_output_accuracy: 0.9722 - gender_output_accuracy: 0.9987 - val_loss: 2.1453 - val_age_output_loss: 1.3302 - val_gender_output_loss: 0.7970 - val_age_output_accuracy: 0.7199 - val_gender_output_accuracy: 0.8732 - lr: 2.5000e-04\n",
            "INFO:tensorflow:Assets written to: /tmp/tmpppp9w1uk/model/data/model/assets\n"
          ]
        },
        {
          "output_type": "stream",
          "name": "stderr",
          "text": [
            "2022/05/23 02:27:16 WARNING mlflow.utils.requirements_utils: Found tensorflow version (2.8.0+zzzcolab20220506162203) contains a local version label (+zzzcolab20220506162203). MLflow logged a pip requirement for this package as 'tensorflow==2.8.0' without the local version label to make it installable from PyPI. To specify pip requirements containing local version labels, please use `conda_env` or `pip_requirements`.\n",
            "2022/05/23 02:27:24 WARNING mlflow.utils.requirements_utils: Found tensorflow version (2.8.0+zzzcolab20220506162203) contains a local version label (+zzzcolab20220506162203). MLflow logged a pip requirement for this package as 'tensorflow==2.8.0' without the local version label to make it installable from PyPI. To specify pip requirements containing local version labels, please use `conda_env` or `pip_requirements`.\n",
            "2022/05/23 02:27:24 WARNING mlflow.utils.requirements_utils: Found jaxlib version (0.3.7+cuda11.cudnn805) contains a local version label (+cuda11.cudnn805). MLflow logged a pip requirement for this package as 'jaxlib==0.3.7' without the local version label to make it installable from PyPI. To specify pip requirements containing local version labels, please use `conda_env` or `pip_requirements`.\n"
          ]
        }
      ],
      "source": [
        "import math\n",
        "from tensorflow.keras.optimizers import Adam\n",
        "from keras.callbacks import ModelCheckpoint\n",
        "from keras.callbacks import LearningRateScheduler\n",
        "\n",
        "def step_decay(epoch):\n",
        "\tinitial_lrate = 0.002\n",
        "\tdrop = 0.5\n",
        "\tepochs_drop = 7.0\n",
        "\tlrate = initial_lrate * math.pow(drop, math.floor((1+epoch)/epochs_drop))\n",
        "\treturn lrate      \n",
        "\n",
        "opt = Adam(lr=0.0)\n",
        "lrate = LearningRateScheduler(step_decay)\n",
        "\n",
        "train_gen = generate_images(train_idx, is_training=True, batch_size=32)\n",
        "valid_gen = generate_images(val_idx, is_training=True, batch_size=32)\n",
        "callbacks_list = [lrate]\n",
        "\n",
        "history = model.fit(train_gen, steps_per_epoch = len(train_idx)//32, epochs=22  , callbacks=callbacks_list,\n",
        "                     validation_data=valid_gen, validation_steps=len(val_idx)//32)\n",
        "\n"
      ]
    },
    {
      "cell_type": "markdown",
      "metadata": {
        "id": "udSH6GhxH3RR"
      },
      "source": [
        "We see that the model has started overfitting. Validation loss for both age and gender is increasing, which a clear sign of overfitting. Hence, stop the training, else the model might lose its generalization ability.\n",
        "we tried training further, and the accuracy was not able to increase. Hence, we conclude that the model has achieved saturation."
      ]
    },
    {
      "cell_type": "markdown",
      "source": [
        "# **saving the model**"
      ],
      "metadata": {
        "id": "rF29XDvnndRz"
      }
    },
    {
      "cell_type": "code",
      "execution_count": 151,
      "metadata": {
        "colab": {
          "base_uri": "https://localhost:8080/"
        },
        "id": "k3DyQlH4YJqO",
        "outputId": "eab4f178-f6cf-46f2-88d8-b9a4d8354616"
      },
      "outputs": [
        {
          "output_type": "stream",
          "name": "stdout",
          "text": [
            "INFO:tensorflow:Assets written to: /content/drive/My Drive/Colab Notebooks/DL_AgeGen_best/assets\n"
          ]
        }
      ],
      "source": [
        "model.save('/content/drive/My Drive/Colab Notebooks/DL_AgeGen_best')         # Saving the above run model. It has performed best till date.\n",
        "\n",
        "model.save(f'/content/drive/My Drive/Colab Notebooks/DL_AgeGen_best.h5')  # Converting to .h5 file for deployment\n"
      ]
    },
    {
      "cell_type": "code",
      "execution_count": 152,
      "metadata": {
        "id": "EOTG4hlEVtd5"
      },
      "outputs": [],
      "source": [
        "from keras.models import load_model\n",
        "new_model = load_model('/content/drive/My Drive/Colab Notebooks/DL_AgeGen_best')"
      ]
    },
    {
      "cell_type": "code",
      "source": [
        "    # Log the sklearn model and register as version 1\n",
        "mlflow.keras.log_model(model, \"final_model\")"
      ],
      "metadata": {
        "colab": {
          "base_uri": "https://localhost:8080/"
        },
        "id": "rXCq-gpCjdL0",
        "outputId": "a539c682-1838-4d4f-da17-d53debd7b817"
      },
      "execution_count": 153,
      "outputs": [
        {
          "output_type": "stream",
          "name": "stdout",
          "text": [
            "INFO:tensorflow:Assets written to: /tmp/tmpoak9glpq/model/data/model/assets\n"
          ]
        },
        {
          "output_type": "stream",
          "name": "stderr",
          "text": [
            "2022/05/23 02:31:47 WARNING mlflow.utils.requirements_utils: Found tensorflow version (2.8.0+zzzcolab20220506162203) contains a local version label (+zzzcolab20220506162203). MLflow logged a pip requirement for this package as 'tensorflow==2.8.0' without the local version label to make it installable from PyPI. To specify pip requirements containing local version labels, please use `conda_env` or `pip_requirements`.\n",
            "2022/05/23 02:31:55 WARNING mlflow.utils.requirements_utils: Found jaxlib version (0.3.7+cuda11.cudnn805) contains a local version label (+cuda11.cudnn805). MLflow logged a pip requirement for this package as 'jaxlib==0.3.7' without the local version label to make it installable from PyPI. To specify pip requirements containing local version labels, please use `conda_env` or `pip_requirements`.\n",
            "2022/05/23 02:31:55 WARNING mlflow.utils.requirements_utils: Found tensorflow version (2.8.0+zzzcolab20220506162203) contains a local version label (+zzzcolab20220506162203). MLflow logged a pip requirement for this package as 'tensorflow==2.8.0' without the local version label to make it installable from PyPI. To specify pip requirements containing local version labels, please use `conda_env` or `pip_requirements`.\n"
          ]
        },
        {
          "output_type": "execute_result",
          "data": {
            "text/plain": [
              "ModelInfo(artifact_path='final_model', flavors={'keras': {'keras_module': 'tensorflow.keras', 'keras_version': '2.8.0', 'save_format': 'tf', 'data': 'data', 'code': None}, 'python_function': {'loader_module': 'mlflow.keras', 'python_version': '3.7.13', 'data': 'data', 'env': 'conda.yaml'}}, model_uri='runs:/4bd2a002b8924841b1bd350406a745c6/final_model', model_uuid='0079f0c69baf4f37b79ca51cafdfffc7', run_id='4bd2a002b8924841b1bd350406a745c6', saved_input_example_info=None, signature_dict=None, utc_time_created='2022-05-23 02:31:38.149548', mlflow_version='1.26.0')"
            ]
          },
          "metadata": {},
          "execution_count": 153
        }
      ]
    },
    {
      "cell_type": "markdown",
      "source": [
        "# **Final prediction**"
      ],
      "metadata": {
        "id": "rla7Z1RRnUEm"
      }
    },
    {
      "cell_type": "code",
      "execution_count": 154,
      "metadata": {
        "colab": {
          "base_uri": "https://localhost:8080/",
          "height": 342
        },
        "id": "A9Nuu0480Mpw",
        "outputId": "811838a4-724d-412e-c0f5-0691407582d1"
      },
      "outputs": [
        {
          "output_type": "stream",
          "name": "stdout",
          "text": [
            "<PIL.Image.Image image mode=RGB size=198x198 at 0x7F6F723CB050>\n"
          ]
        },
        {
          "output_type": "display_data",
          "data": {
            "text/plain": [
              "<Figure size 432x288 with 1 Axes>"
            ],
            "image/png": "[encoded data removed]"
          },
          "metadata": {}
        },
        {
          "output_type": "stream",
          "name": "stdout",
          "text": [
            "age pred array [1.7215725e-05 1.4550972e-09 3.1144558e-03 9.9063802e-01 6.2302751e-03]\n",
            "75-99 yrs old\n",
            "Female\n"
          ]
        }
      ],
      "source": [
        "from keras.preprocessing import image\n",
        "from keras.preprocessing.image import ImageDataGenerator\n",
        " \n",
        "def loadImage(filepath):\n",
        "  test_img = image.load_img(filepath, target_size=(198, 198))\n",
        "  print(test_img)\n",
        "  test_img = image.img_to_array(test_img)\n",
        "  test_img = np.expand_dims(test_img, axis = 0)\n",
        "  test_img /= 255\n",
        "\n",
        "  return test_img\n",
        "\n",
        "picture = \"/content/drive/MyDrive/Age_Geneder_UTKDataSet/UTKFace/100_1_0_20170112215032192.jpg.chip.jpg\"                                     \n",
        "age_pred, gender_pred = new_model.predict(loadImage(picture))\n",
        "img = image.load_img(picture)                        \n",
        "plt.imshow(img)\n",
        "plt.show()\n",
        "max=-1\n",
        "count=0\n",
        "print('age pred array', age_pred[0])\n",
        "for i in age_pred[0]:\n",
        "  if i>max:\n",
        "    max = i\n",
        "    temp = count\n",
        "  count+=1\n",
        "\n",
        "if temp==0:\n",
        "  print('0-24 yrs old')\n",
        "if temp==1:\n",
        "  print('25-49 yrs old')\n",
        "if temp==2:\n",
        "  print('50-74 yrs old')\n",
        "if temp==3:\n",
        "  print('75-99 yrs old')\n",
        "if temp==4:\n",
        "  print('91-124 yrs old')\n",
        "\n",
        "if gender_pred[0][0]>gender_pred[0][1]:\n",
        "  print('Male')\n",
        "else:\n",
        "  print('Female')\n"
      ]
    }
  ],
  "metadata": {
    "accelerator": "GPU",
    "colab": {
      "collapsed_sections": [],
      "machine_shape": "hm",
      "name": "DL-DriversProject_ AgeGenderClassifier .ipynb",
      "provenance": [],
      "include_colab_link": true
    },
    "kernelspec": {
      "display_name": "Python 3",
      "name": "python3"
    }
  },
  "nbformat": 4,
  "nbformat_minor": 0
}